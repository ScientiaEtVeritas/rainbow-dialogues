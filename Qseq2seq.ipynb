{
 "cells": [
  {
   "cell_type": "code",
   "execution_count": 1,
   "metadata": {},
   "outputs": [],
   "source": [
    "from IPython.display import display, Markdown\n",
    "import numpy.lib.recfunctions as nlr\n",
    "def show(x): print(nlr.unstructured_to_structured(x.numpy())) # pretty print for tensors"
   ]
  },
  {
   "cell_type": "markdown",
   "metadata": {},
   "source": [
    "# Config"
   ]
  },
  {
   "cell_type": "code",
   "execution_count": 2,
   "metadata": {},
   "outputs": [],
   "source": [
    "%run Config.py\n",
    "config.device = torch.device('cpu')"
   ]
  },
  {
   "cell_type": "markdown",
   "metadata": {},
   "source": [
    "# Data"
   ]
  },
  {
   "cell_type": "markdown",
   "metadata": {},
   "source": [
    "## Tokenization"
   ]
  },
  {
   "cell_type": "code",
   "execution_count": 68,
   "metadata": {},
   "outputs": [
    {
     "name": "stdout",
     "output_type": "stream",
     "text": [
      "^C\n"
     ]
    },
    {
     "data": {
      "text/plain": [
       "[]"
      ]
     },
     "execution_count": 68,
     "metadata": {},
     "output_type": "execute_result"
    }
   ],
   "source": [
    "!!perl ../OpenNMT-py/tools/tokenizer.perl  -l en \\\n",
    "< ../data/\"cornell movie-dialogs corpus\"/src_movie_lines.txt \\\n",
    "> ../data/\"cornell movie-dialogs corpus\"/src_movie_lines_tok.txt"
   ]
  },
  {
   "cell_type": "code",
   "execution_count": 257,
   "metadata": {},
   "outputs": [
    {
     "data": {
      "text/plain": [
       "['Tokenizer Version 1.1', 'Language: en', 'Number of threads: 1']"
      ]
     },
     "execution_count": 257,
     "metadata": {},
     "output_type": "execute_result"
    }
   ],
   "source": [
    "!!perl ../OpenNMT-py/tools/tokenizer.perl  -l en \\\n",
    "< ../data/\"cornell movie-dialogs corpus\"/tgt_movie_lines.txt \\\n",
    "> ../data/\"cornell movie-dialogs corpus\"/tgt_movie_lines_tok.txt"
   ]
  },
  {
   "cell_type": "markdown",
   "metadata": {},
   "source": [
    "## Preprocessing"
   ]
  },
  {
   "cell_type": "code",
   "execution_count": null,
   "metadata": {},
   "outputs": [],
   "source": [
    "!!python ../OpenNMT-py/preprocess.py --train_src \"data/cornell movie-dialogs corpus/src_movie_lines_tok.txt\" --train_tgt \"../data/cornell movie-dialogs corpus/tgt_movie_lines_tok.txt\" --save_data ../data/cornell_raw"
   ]
  },
  {
   "cell_type": "code",
   "execution_count": null,
   "metadata": {},
   "outputs": [],
   "source": [
    "!!python ../OpenNMT-py/preprocess.py --train_src \"data/cornell movie-dialogs corpus/src_movie_lines_tok.txt\" --train_tgt \"../data/cornell movie-dialogs corpus/tgt_movie_lines_tok.txt\" --save_data ../data/cornell_raw_min_30_10_tok --src_words_min_frequency 30 --tgt_words_min_frequency 30 --src_seq_length 10 --tgt_seq_length 10"
   ]
  },
  {
   "cell_type": "code",
   "execution_count": null,
   "metadata": {},
   "outputs": [],
   "source": [
    "!!python ../OpenNMT-py/preprocess.py --train_src \"data/cornell movie-dialogs corpus/src_movie_lines_tok.txt\" --train_tgt \"../data/cornell movie-dialogs corpus/tgt_movie_lines_tok.txt\" --save_data ../data/cornell_raw_min_100_tok --src_words_min_frequency 100 --tgt_words_min_frequency 100 --src_seq_length 10 --tgt_seq_length 10"
   ]
  },
  {
   "cell_type": "code",
   "execution_count": 3,
   "metadata": {},
   "outputs": [
    {
     "data": {
      "text/plain": [
       "['[2019-09-25 10:42:38,078 INFO] Extracting features...',\n",
       " '[2019-09-25 10:42:38,119 INFO]  * number of source features: 0.',\n",
       " '[2019-09-25 10:42:38,119 INFO]  * number of target features: 0.',\n",
       " '[2019-09-25 10:42:38,120 INFO] Building `Fields` object...',\n",
       " '[2019-09-25 10:42:38,120 INFO] Building & saving training data...',\n",
       " '[2019-09-25 10:42:38,120 INFO] Reading source and target files: data/cornell movie-dialogs corpus/src_movie_lines_tok.txt ../data/cornell movie-dialogs corpus/tgt_movie_lines_tok.txt.',\n",
       " '[2019-09-25 10:42:38,321 INFO] Building shard 0.',\n",
       " '[2019-09-25 10:42:50,012 INFO]  * saving 0th train data shard to ../data/cornell_raw_min_900_tok.train.0.pt.',\n",
       " '[2019-09-25 10:42:53,612 INFO]  * tgt vocab size: 89.',\n",
       " '[2019-09-25 10:42:53,674 INFO]  * src vocab size: 90.']"
      ]
     },
     "execution_count": 3,
     "metadata": {},
     "output_type": "execute_result"
    }
   ],
   "source": [
    "!!python ../OpenNMT-py/preprocess.py --train_src \"data/cornell movie-dialogs corpus/src_movie_lines_tok.txt\" --train_tgt \"../data/cornell movie-dialogs corpus/tgt_movie_lines_tok.txt\" --save_data ../data/cornell_raw_min_900_tok --src_words_min_frequency 900 --tgt_words_min_frequency 900 --src_seq_length 12 --tgt_seq_length 12"
   ]
  },
  {
   "cell_type": "code",
   "execution_count": 3,
   "metadata": {},
   "outputs": [],
   "source": [
    "vocab_fields = torch.load(\"data/cornell_raw_min_900_tok.vocab.pt\")"
   ]
  },
  {
   "cell_type": "code",
   "execution_count": 4,
   "metadata": {},
   "outputs": [],
   "source": [
    "src_text_field = vocab_fields[\"src\"].base_field\n",
    "src_vocab = src_text_field.vocab\n",
    "src_padding = src_vocab.stoi[src_text_field.pad_token] #stoi: mapping token strings to numerical identifiers.\n",
    "# ['<unk>', '<blank>', 'I', 'you', 'the', 'to', 'a', 'of', 'and', 'You']\n",
    "# src_text_field.pad_token : '<blank>'\n",
    "\n",
    "tgt_text_field = vocab_fields['tgt'].base_field\n",
    "tgt_vocab = tgt_text_field.vocab\n",
    "tgt_padding = tgt_vocab.stoi[tgt_text_field.pad_token]"
   ]
  },
  {
   "cell_type": "code",
   "execution_count": 5,
   "metadata": {},
   "outputs": [],
   "source": [
    "config.src_vocab_size = len(src_vocab)\n",
    "config.tgt_vocab_size = len(tgt_vocab)\n",
    "config.src_padding = src_padding\n",
    "config.tgt_padding = tgt_padding"
   ]
  },
  {
   "cell_type": "code",
   "execution_count": 6,
   "metadata": {},
   "outputs": [],
   "source": [
    "config.src_unk = src_vocab.stoi[src_text_field.unk_token]\n",
    "config.tgt_unk = tgt_vocab.stoi[tgt_text_field.unk_token]\n",
    "config.tgt_bos = tgt_vocab.stoi[tgt_text_field.init_token]\n",
    "config.tgt_eos = tgt_vocab.stoi[tgt_text_field.eos_token]"
   ]
  },
  {
   "cell_type": "code",
   "execution_count": 7,
   "metadata": {},
   "outputs": [],
   "source": [
    "config.vocab_fields = vocab_fields\n",
    "config.src_vocab = src_vocab\n",
    "config.tgt_vocab = tgt_vocab"
   ]
  },
  {
   "cell_type": "markdown",
   "metadata": {},
   "source": [
    "## Data Loading"
   ]
  },
  {
   "cell_type": "code",
   "execution_count": 8,
   "metadata": {},
   "outputs": [],
   "source": [
    "import onmt\n",
    "from itertools import chain\n",
    "\n",
    "train_data_file = \"data/cornell_raw_min_900_tok.train.0.pt\"\n",
    "train_iter = onmt.inputters.inputter.DatasetLazyIter(dataset_paths=[train_data_file],\n",
    "                                                     fields=vocab_fields,\n",
    "                                                     batch_size=1,\n",
    "                                                     batch_size_multiple=1,\n",
    "                                                     batch_size_fn=None,\n",
    "                                                     device=config.device,\n",
    "                                                     is_train=True,\n",
    "                                                     repeat=False,\n",
    "                                                     pool_factor=8192)\n",
    "\n",
    "data = list(train_iter)\n",
    "filtered_data = []\n",
    "for x in data:\n",
    "    # Filtering sentences with <unk> token\n",
    "    if not ((x.src[0].squeeze() == config.src_unk).any() or (x.tgt.squeeze() == config.tgt_unk).any()):\n",
    "        filtered_data.append(x)  "
   ]
  },
  {
   "cell_type": "code",
   "execution_count": 9,
   "metadata": {},
   "outputs": [],
   "source": [
    "config.PRELOADING_SIZE = len(filtered_data)"
   ]
  },
  {
   "cell_type": "code",
   "execution_count": 10,
   "metadata": {},
   "outputs": [
    {
     "data": {
      "text/markdown": [
       "#### Data"
      ],
      "text/plain": [
       "<IPython.core.display.Markdown object>"
      ]
     },
     "metadata": {},
     "output_type": "display_data"
    },
    {
     "data": {
      "text/markdown": [
       "###### 891 records"
      ],
      "text/plain": [
       "<IPython.core.display.Markdown object>"
      ]
     },
     "metadata": {},
     "output_type": "display_data"
    },
    {
     "data": {
      "text/markdown": [
       "###### 90 src vocabulary size"
      ],
      "text/plain": [
       "<IPython.core.display.Markdown object>"
      ]
     },
     "metadata": {},
     "output_type": "display_data"
    },
    {
     "data": {
      "text/markdown": [
       "###### 89 tgt vocabulary size"
      ],
      "text/plain": [
       "<IPython.core.display.Markdown object>"
      ]
     },
     "metadata": {},
     "output_type": "display_data"
    },
    {
     "data": {
      "text/markdown": [
       "#### Vocabulary"
      ],
      "text/plain": [
       "<IPython.core.display.Markdown object>"
      ]
     },
     "metadata": {},
     "output_type": "display_data"
    },
    {
     "data": {
      "text/markdown": [
       "###### [&lt;blank&gt;] [&lt;s&gt;] [&lt;/s&gt;] [.] [?] [I] [,] [you] [&apos;s] [...] [!] [the] [&apos;t] [to] [a] [it] [You] [What] [me] [that] [No] [&apos;m] [is] [do] [know] [It] [&apos;re] [of] [don] [in] [--] [Yes] [what] [have] [not] [your] [for] [Yeah] [was] [my] [are] [be] [on] [&apos;ll] [That] [this] [Oh] [can] [He] [The] [about] [he] [We] [we] [here] [and] [him] [How] [like] [with] [want] [think] [Why] [just] [&apos;] [get] [right] [Well] [got] [up] [And] [out] [go] [did] [all] [there] [her] [&apos;ve] [Where] [going] [see] [one] [But] [so] [at] [A] [Who] [no]"
      ],
      "text/plain": [
       "<IPython.core.display.Markdown object>"
      ]
     },
     "metadata": {},
     "output_type": "display_data"
    },
    {
     "data": {
      "text/markdown": [
       "#### seq2seq - Hyperparameter"
      ],
      "text/plain": [
       "<IPython.core.display.Markdown object>"
      ]
     },
     "metadata": {},
     "output_type": "display_data"
    },
    {
     "data": {
      "text/markdown": [
       "###### Embedding Size: 100"
      ],
      "text/plain": [
       "<IPython.core.display.Markdown object>"
      ]
     },
     "metadata": {},
     "output_type": "display_data"
    },
    {
     "data": {
      "text/markdown": [
       "###### RNN Size: 500"
      ],
      "text/plain": [
       "<IPython.core.display.Markdown object>"
      ]
     },
     "metadata": {},
     "output_type": "display_data"
    },
    {
     "data": {
      "text/markdown": [
       "#### RL - Hyperparameter"
      ],
      "text/plain": [
       "<IPython.core.display.Markdown object>"
      ]
     },
     "metadata": {},
     "output_type": "display_data"
    },
    {
     "data": {
      "text/markdown": [
       "###### Update Target Net every 10000 steps"
      ],
      "text/plain": [
       "<IPython.core.display.Markdown object>"
      ]
     },
     "metadata": {},
     "output_type": "display_data"
    },
    {
     "data": {
      "text/markdown": [
       "###### Pretraining Iterations 0"
      ],
      "text/plain": [
       "<IPython.core.display.Markdown object>"
      ]
     },
     "metadata": {},
     "output_type": "display_data"
    },
    {
     "data": {
      "text/markdown": [
       "###### N-Steps 4"
      ],
      "text/plain": [
       "<IPython.core.display.Markdown object>"
      ]
     },
     "metadata": {},
     "output_type": "display_data"
    },
    {
     "data": {
      "text/markdown": [
       "###### Distributional RL with 51 Quantiles"
      ],
      "text/plain": [
       "<IPython.core.display.Markdown object>"
      ]
     },
     "metadata": {},
     "output_type": "display_data"
    }
   ],
   "source": [
    "display(Markdown(f'#### Data'))\n",
    "display(Markdown(f'###### {config.PRELOADING_SIZE:,} records'))\n",
    "display(Markdown(f'###### {config.src_vocab_size:,} src vocabulary size'))\n",
    "display(Markdown(f'###### {config.tgt_vocab_size:,} tgt vocabulary size'))\n",
    "\n",
    "display(Markdown(f'#### Vocabulary'))\n",
    "display(Markdown(\"###### [\"+\"] [\".join([voc[0].replace('<', '&lt;').replace('>', '&gt;') for voc in tgt_vocab.stoi.items() if voc[1] != 0]) + \"]\"))\n",
    "\n",
    "display(Markdown(f'#### seq2seq - Hyperparameter'))\n",
    "display(Markdown(f'###### Embedding Size: {config.emb_size}'))\n",
    "display(Markdown(f'###### RNN Size: {config.rnn_size}'))\n",
    "\n",
    "display(Markdown(f'#### RL - Hyperparameter'))\n",
    "display(Markdown(f'###### Update Target Net every {config.target_update_freq} steps'))\n",
    "display(Markdown(f'###### Pretraining Iterations {config.PRETRAIN_ITER}'))\n",
    "display(Markdown(f'###### N-Steps {config.N_STEPS}'))\n",
    "if config.DISTRIBUTIONAL: display(Markdown(f'###### Distributional RL with {config.QUANTILES} Quantiles'))"
   ]
  },
  {
   "cell_type": "markdown",
   "metadata": {},
   "source": [
    "# seq2seq-DQN"
   ]
  },
  {
   "cell_type": "code",
   "execution_count": 309,
   "metadata": {},
   "outputs": [],
   "source": [
    "%run modules/DQN.py"
   ]
  },
  {
   "cell_type": "code",
   "execution_count": 310,
   "metadata": {},
   "outputs": [],
   "source": [
    "%run modules/Model.py"
   ]
  },
  {
   "cell_type": "code",
   "execution_count": 311,
   "metadata": {},
   "outputs": [],
   "source": [
    "model = Model(config, DQN)"
   ]
  },
  {
   "cell_type": "code",
   "execution_count": 312,
   "metadata": {},
   "outputs": [
    {
     "data": {
      "text/plain": [
       "DQN(\n",
       "  (encoder_embeddings): Embeddings(\n",
       "    (make_embedding): Sequential(\n",
       "      (emb_luts): Elementwise(\n",
       "        (0): Embedding(90, 100, padding_idx=1)\n",
       "      )\n",
       "    )\n",
       "  )\n",
       "  (encoder): RNNEncoder(\n",
       "    (embeddings): Embeddings(\n",
       "      (make_embedding): Sequential(\n",
       "        (emb_luts): Elementwise(\n",
       "          (0): Embedding(90, 100, padding_idx=1)\n",
       "        )\n",
       "      )\n",
       "    )\n",
       "    (rnn): GRU(100, 250, bidirectional=True)\n",
       "  )\n",
       "  (decoder_embeddings): Embeddings(\n",
       "    (make_embedding): Sequential(\n",
       "      (emb_luts): Elementwise(\n",
       "        (0): Embedding(89, 100, padding_idx=1)\n",
       "      )\n",
       "    )\n",
       "  )\n",
       "  (decoder): InputFeedRNNDecoder(\n",
       "    (embeddings): Embeddings(\n",
       "      (make_embedding): Sequential(\n",
       "        (emb_luts): Elementwise(\n",
       "          (0): Embedding(89, 100, padding_idx=1)\n",
       "        )\n",
       "      )\n",
       "    )\n",
       "    (dropout): Dropout(p=0.0)\n",
       "    (rnn): StackedGRU(\n",
       "      (dropout): Dropout(p=0.0)\n",
       "      (layers): ModuleList(\n",
       "        (0): GRUCell(600, 500)\n",
       "      )\n",
       "    )\n",
       "    (attn): GlobalAttention(\n",
       "      (linear_in): Linear(in_features=500, out_features=500, bias=False)\n",
       "      (linear_out): Linear(in_features=1000, out_features=500, bias=False)\n",
       "    )\n",
       "  )\n",
       "  (generator): Generator(\n",
       "    (advantages): Sequential(\n",
       "      (0): NoisyLinear()\n",
       "      (1): Mish()\n",
       "      (2): NoisyLinear()\n",
       "    )\n",
       "    (value): Sequential(\n",
       "      (0): NoisyLinear()\n",
       "      (1): Mish()\n",
       "      (2): NoisyLinear()\n",
       "    )\n",
       "  )\n",
       ")"
      ]
     },
     "execution_count": 312,
     "metadata": {},
     "output_type": "execute_result"
    }
   ],
   "source": [
    "model.current_model"
   ]
  },
  {
   "cell_type": "code",
   "execution_count": 313,
   "metadata": {},
   "outputs": [
    {
     "data": {
      "text/markdown": [
       "##### Total Number of Parameters: 8,550,080"
      ],
      "text/plain": [
       "<IPython.core.display.Markdown object>"
      ]
     },
     "metadata": {},
     "output_type": "display_data"
    }
   ],
   "source": [
    "total_params = sum(p.numel() for p in model.current_model.parameters() if p.requires_grad)\n",
    "display(Markdown(f'##### Total Number of Parameters: {total_params:,}'))"
   ]
  },
  {
   "cell_type": "code",
   "execution_count": 314,
   "metadata": {},
   "outputs": [],
   "source": [
    "%run modules/MSELoss.py"
   ]
  },
  {
   "cell_type": "code",
   "execution_count": 315,
   "metadata": {},
   "outputs": [],
   "source": [
    "loss = MSELoss(\n",
    "    #nn.MSELoss(reduction=\"none\"),\n",
    "    nn.SmoothL1Loss(reduction=\"none\"),\n",
    "    model.current_model.generator\n",
    ")"
   ]
  },
  {
   "cell_type": "code",
   "execution_count": 316,
   "metadata": {},
   "outputs": [],
   "source": [
    "%run modules/Reward.py"
   ]
  },
  {
   "cell_type": "code",
   "execution_count": 317,
   "metadata": {},
   "outputs": [],
   "source": [
    "config.rewards = ['BLEU']\n",
    "config.rewards_weights = [1]    \n",
    "\n",
    "reward = Reward(config)"
   ]
  },
  {
   "cell_type": "code",
   "execution_count": 318,
   "metadata": {},
   "outputs": [],
   "source": [
    "#torch_optimizer = torch.optim.Adam(model.current_model.parameters(), lr=config.LR)\n",
    "from lib.Ranger import Ranger\n",
    "torch_optimizer = Ranger(model.current_model.parameters(), lr=config.LR)\n",
    "optim = onmt.utils.optimizers.Optimizer(torch_optimizer, learning_rate=config.LR, max_grad_norm=2)"
   ]
  },
  {
   "cell_type": "code",
   "execution_count": 319,
   "metadata": {},
   "outputs": [],
   "source": [
    "#report_manager = onmt.utils.ReportMgr(report_every=1, start_time=None, tensorboard_writer=None)"
   ]
  },
  {
   "cell_type": "code",
   "execution_count": 320,
   "metadata": {},
   "outputs": [],
   "source": [
    "%run modules/RLModelSaver.py"
   ]
  },
  {
   "cell_type": "code",
   "execution_count": 321,
   "metadata": {},
   "outputs": [],
   "source": [
    "model_saver = RLModelSaver(\"checkpoints/checkpoint\", model, config, vocab_fields, optim)"
   ]
  },
  {
   "cell_type": "code",
   "execution_count": 322,
   "metadata": {},
   "outputs": [],
   "source": [
    "# Preload Experience Replay Buffer\n",
    "if len(model.replay_memory) == 0:\n",
    "    for example in filtered_data:\n",
    "        model.replay_memory.preload(example.src[0].squeeze(1), example.tgt.squeeze(1), 1)\n",
    "        model.sample_buffer.preload(example.src[0].squeeze(1), example.tgt.squeeze(1), None)"
   ]
  },
  {
   "cell_type": "code",
   "execution_count": 323,
   "metadata": {},
   "outputs": [],
   "source": [
    "%run modules/QLearning.py"
   ]
  },
  {
   "cell_type": "code",
   "execution_count": 324,
   "metadata": {},
   "outputs": [],
   "source": [
    "trainer = QLearning(config,\n",
    "                    model,\n",
    "                    reward=reward,\n",
    "                    train_loss=loss,\n",
    "                    valid_loss=loss,\n",
    "                    optim=optim,\n",
    "                    model_saver = model_saver)\n",
    "                    #shard_size = 0"
   ]
  },
  {
   "cell_type": "code",
   "execution_count": 325,
   "metadata": {},
   "outputs": [
    {
     "data": {
      "text/markdown": [
       "##### Examples"
      ],
      "text/plain": [
       "<IPython.core.display.Markdown object>"
      ]
     },
     "metadata": {},
     "output_type": "display_data"
    },
    {
     "name": "stdout",
     "output_type": "stream",
     "text": [
      "Yeah ?  ||  <s> Yeah . </s>\n",
      "How do you do .  ||  <s> How do you do . </s>\n",
      "Are you all right ?  ||  <s> No . </s>\n",
      "No .  ||  <s> Why not ? </s>\n",
      "You know ?  ||  <s> Yes . </s>\n",
      "I can &apos;t .  ||  <s> Why not ? </s>\n",
      "And ... ?  ||  <s> What and ? That &apos;s what I got . </s>\n",
      "Yeah , right .  ||  <s> Why not ? </s>\n",
      "Oh -- Oh --  ||  <s> Oh -- are you -- are you all right ? </s>\n",
      "So that &apos;s it ...  ||  <s> That &apos;s it . </s>\n"
     ]
    }
   ],
   "source": [
    "display(Markdown(f'##### Examples'))\n",
    "for i, x in enumerate(filtered_data[0:10]):\n",
    "    print(' '.join([src_vocab.itos[token] for token in x.src[0].squeeze().tolist()]) + '  ||  ' + ' '.join([tgt_vocab.itos[token] for token in x.tgt.squeeze().tolist()]))"
   ]
  },
  {
   "cell_type": "code",
   "execution_count": null,
   "metadata": {},
   "outputs": [],
   "source": [
    "if config.SUPERVISED_PRETRAINING:\n",
    "    trainer.pretrain(train_steps=2000, save_checkpoint_steps=50)"
   ]
  },
  {
   "cell_type": "code",
   "execution_count": null,
   "metadata": {},
   "outputs": [],
   "source": [
    "result = trainer.train(train_steps=1000000, save_checkpoint_steps=1000)"
   ]
  },
  {
   "cell_type": "code",
   "execution_count": null,
   "metadata": {},
   "outputs": [],
   "source": [
    "#for para in list(model.current_model.parameters()):\n",
    "#    printa(para.grad.abs().sum())"
   ]
  },
  {
   "cell_type": "code",
   "execution_count": 27,
   "metadata": {},
   "outputs": [],
   "source": [
    "# Analyze Replay Memory\n",
    "#for i, x in enumerate(model.replay_memory._storage[2000:]):\n",
    "#    if ' '.join([tgt_vocab.itos[token] for token in x[1].squeeze().tolist()]) != '<s> </s>':\n",
    "#        print(i+2000, ' '.join([src_vocab.itos[token] for token in x[0].squeeze().tolist()]) + '  ||  ' + ' '.join([tgt_vocab.itos[token] for token in x[1].squeeze().tolist()]))"
   ]
  },
  {
   "cell_type": "code",
   "execution_count": 28,
   "metadata": {},
   "outputs": [],
   "source": [
    "# Sum up rewards in replay memory\n",
    "#for i in range(0,len(model.replay_memory),2000):\n",
    "#    sum_ = sum([y[2] for y in model.replay_memory._storage[i:i+2000]])\n",
    "#    print(i, i+2000, sum_)"
   ]
  },
  {
   "cell_type": "code",
   "execution_count": 29,
   "metadata": {},
   "outputs": [],
   "source": [
    "# Take a look at priorities in prioritzed replay memory\n",
    "#for i in range(0,len(model.replay_memory),2000):\n",
    "#    print(i, i+2000, sum([model.replay_memory._it_sum[y] for y in range(i, i+2000)]))"
   ]
  }
 ],
 "metadata": {
  "kernelspec": {
   "display_name": "Python 3",
   "language": "python",
   "name": "python3"
  },
  "language_info": {
   "codemirror_mode": {
    "name": "ipython",
    "version": 3
   },
   "file_extension": ".py",
   "mimetype": "text/x-python",
   "name": "python",
   "nbconvert_exporter": "python",
   "pygments_lexer": "ipython3",
   "version": "3.6.8"
  }
 },
 "nbformat": 4,
 "nbformat_minor": 4
}

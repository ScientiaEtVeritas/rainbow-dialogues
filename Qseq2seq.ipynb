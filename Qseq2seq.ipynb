{
 "cells": [
  {
   "cell_type": "markdown",
   "metadata": {},
   "source": [
    "# Config"
   ]
  },
  {
   "cell_type": "code",
   "execution_count": 196,
   "metadata": {},
   "outputs": [],
   "source": [
    "%run Config.py"
   ]
  },
  {
   "cell_type": "markdown",
   "metadata": {},
   "source": [
    "# Data"
   ]
  },
  {
   "cell_type": "code",
   "execution_count": 197,
   "metadata": {},
   "outputs": [
    {
     "data": {
      "text/plain": [
       "['Please backup existing pt files: ../data/cornell_raw.train*.pt, to avoid overwriting them!']"
      ]
     },
     "execution_count": 197,
     "metadata": {},
     "output_type": "execute_result"
    }
   ],
   "source": [
    "!!python ../OpenNMT-py/preprocess.py --train_src \"../data/cornell movie-dialogs corpus/src_movie_lines.txt\" --train_tgt \"../data/cornell movie-dialogs corpus/tgt_movie_lines.txt\" --save_data ../data/cornell_raw"
   ]
  },
  {
   "cell_type": "code",
   "execution_count": 198,
   "metadata": {},
   "outputs": [
    {
     "data": {
      "text/plain": [
       "['Please backup existing pt files: ../data/cornell_raw_min_30_10.train*.pt, to avoid overwriting them!']"
      ]
     },
     "execution_count": 198,
     "metadata": {},
     "output_type": "execute_result"
    }
   ],
   "source": [
    "!!python ../OpenNMT-py/preprocess.py --train_src \"../data/cornell movie-dialogs corpus/src_movie_lines.txt\" --train_tgt \"../data/cornell movie-dialogs corpus/tgt_movie_lines.txt\" --save_data ../data/cornell_raw_min_30_10 --src_words_min_frequency 30 --tgt_words_min_frequency 30 --src_seq_length 10 --tgt_seq_length 10"
   ]
  },
  {
   "cell_type": "code",
   "execution_count": 199,
   "metadata": {},
   "outputs": [],
   "source": [
    "vocab_fields = torch.load(\"../data/cornell_raw_min_30_10.vocab.pt\")"
   ]
  },
  {
   "cell_type": "code",
   "execution_count": 200,
   "metadata": {},
   "outputs": [],
   "source": [
    "src_text_field = vocab_fields[\"src\"].base_field\n",
    "src_vocab = src_text_field.vocab\n",
    "src_padding = src_vocab.stoi[src_text_field.pad_token] #stoi: mapping token strings to numerical identifiers.\n",
    "# ['<unk>', '<blank>', 'I', 'you', 'the', 'to', 'a', 'of', 'and', 'You']\n",
    "# src_text_field.pad_token : '<blank>'\n",
    "\n",
    "tgt_text_field = vocab_fields['tgt'].base_field\n",
    "tgt_vocab = tgt_text_field.vocab\n",
    "tgt_padding = tgt_vocab.stoi[tgt_text_field.pad_token]"
   ]
  },
  {
   "cell_type": "code",
   "execution_count": 201,
   "metadata": {},
   "outputs": [],
   "source": [
    "config.src_vocab_size = len(src_vocab)\n",
    "config.tgt_vocab_size = len(tgt_vocab)\n",
    "config.src_padding = src_padding\n",
    "config.tgt_padding = tgt_padding"
   ]
  },
  {
   "cell_type": "code",
   "execution_count": 202,
   "metadata": {},
   "outputs": [],
   "source": [
    "config.tgt_unk = tgt_vocab.stoi[tgt_text_field.unk_token]\n",
    "config.tgt_bos = tgt_vocab.stoi[tgt_text_field.init_token]\n",
    "config.tgt_eos = tgt_vocab.stoi[tgt_text_field.eos_token]"
   ]
  },
  {
   "cell_type": "code",
   "execution_count": 203,
   "metadata": {},
   "outputs": [],
   "source": [
    "config.src_vocab = src_vocab\n",
    "config.tgt_vocab = tgt_vocab"
   ]
  },
  {
   "cell_type": "markdown",
   "metadata": {},
   "source": [
    "# seq2seq-DQN"
   ]
  },
  {
   "cell_type": "code",
   "execution_count": 204,
   "metadata": {},
   "outputs": [],
   "source": [
    "%run modules/NoisyLinear.py"
   ]
  },
  {
   "cell_type": "code",
   "execution_count": 205,
   "metadata": {},
   "outputs": [],
   "source": [
    "%run modules/DQN.py"
   ]
  },
  {
   "cell_type": "code",
   "execution_count": 206,
   "metadata": {},
   "outputs": [],
   "source": [
    "%run modules/Model.py"
   ]
  },
  {
   "cell_type": "code",
   "execution_count": 207,
   "metadata": {},
   "outputs": [],
   "source": [
    "model = Model(config, DQN)"
   ]
  },
  {
   "cell_type": "code",
   "execution_count": 208,
   "metadata": {},
   "outputs": [
    {
     "data": {
      "text/plain": [
       "DQN(\n",
       "  (encoder_embeddings): Embeddings(\n",
       "    (make_embedding): Sequential(\n",
       "      (emb_luts): Elementwise(\n",
       "        (0): Embedding(1462, 100, padding_idx=1)\n",
       "      )\n",
       "    )\n",
       "  )\n",
       "  (encoder): RNNEncoder(\n",
       "    (embeddings): Embeddings(\n",
       "      (make_embedding): Sequential(\n",
       "        (emb_luts): Elementwise(\n",
       "          (0): Embedding(1462, 100, padding_idx=1)\n",
       "        )\n",
       "      )\n",
       "    )\n",
       "    (rnn): LSTM(100, 250, bidirectional=True)\n",
       "  )\n",
       "  (decoder_embeddings): Embeddings(\n",
       "    (make_embedding): Sequential(\n",
       "      (emb_luts): Elementwise(\n",
       "        (0): Embedding(1472, 100, padding_idx=1)\n",
       "      )\n",
       "    )\n",
       "  )\n",
       "  (decoder): InputFeedRNNDecoder(\n",
       "    (embeddings): Embeddings(\n",
       "      (make_embedding): Sequential(\n",
       "        (emb_luts): Elementwise(\n",
       "          (0): Embedding(1472, 100, padding_idx=1)\n",
       "        )\n",
       "      )\n",
       "    )\n",
       "    (dropout): Dropout(p=0.0)\n",
       "    (rnn): StackedLSTM(\n",
       "      (dropout): Dropout(p=0.0)\n",
       "      (layers): ModuleList(\n",
       "        (0): LSTMCell(600, 500)\n",
       "      )\n",
       "    )\n",
       "    (attn): GlobalAttention(\n",
       "      (linear_in): Linear(in_features=500, out_features=500, bias=False)\n",
       "      (linear_out): Linear(in_features=1000, out_features=500, bias=False)\n",
       "    )\n",
       "  )\n",
       "  (generator): Generator(\n",
       "    (advantages): NoisyLinear()\n",
       "    (value): NoisyLinear()\n",
       "  )\n",
       ")"
      ]
     },
     "execution_count": 208,
     "metadata": {},
     "output_type": "execute_result"
    }
   ],
   "source": [
    "model.current_model"
   ]
  },
  {
   "cell_type": "code",
   "execution_count": 209,
   "metadata": {},
   "outputs": [],
   "source": [
    "%run modules/MSELoss.py"
   ]
  },
  {
   "cell_type": "code",
   "execution_count": 210,
   "metadata": {},
   "outputs": [],
   "source": [
    "loss = MSELoss(\n",
    "    nn.MSELoss(reduction=\"none\"),\n",
    "    model.current_model.generator\n",
    ")"
   ]
  },
  {
   "cell_type": "code",
   "execution_count": 211,
   "metadata": {},
   "outputs": [],
   "source": [
    "%run modules/Reward.py"
   ]
  },
  {
   "cell_type": "code",
   "execution_count": 212,
   "metadata": {},
   "outputs": [],
   "source": [
    "config.rewards = ['BLEU']\n",
    "config.rewards_weights = [1]    \n",
    "\n",
    "reward = Reward(config)"
   ]
  },
  {
   "cell_type": "code",
   "execution_count": 213,
   "metadata": {},
   "outputs": [],
   "source": [
    "lr = 1\n",
    "torch_optimizer = torch.optim.SGD(model.current_model.parameters(), lr=lr)\n",
    "optim = onmt.utils.optimizers.Optimizer(torch_optimizer, learning_rate=lr, max_grad_norm=2)"
   ]
  },
  {
   "cell_type": "code",
   "execution_count": 214,
   "metadata": {},
   "outputs": [],
   "source": [
    "#report_manager = onmt.utils.ReportMgr(report_every=1, start_time=None, tensorboard_writer=None)"
   ]
  },
  {
   "cell_type": "code",
   "execution_count": 215,
   "metadata": {},
   "outputs": [
    {
     "name": "stderr",
     "output_type": "stream",
     "text": [
      "INFO:root:Loading dataset from ../data/cornell_raw_min_30_10.train.0.pt\n",
      "INFO:root:number of examples: 101736\n"
     ]
    }
   ],
   "source": [
    "from itertools import chain\n",
    "train_data_file = \"../data/cornell_raw_min_30_10.train.0.pt\"\n",
    "train_iter = onmt.inputters.inputter.DatasetLazyIter(dataset_paths=[train_data_file],\n",
    "                                                     fields=vocab_fields,\n",
    "                                                     batch_size=1,\n",
    "                                                     batch_size_multiple=1,\n",
    "                                                     batch_size_fn=None,\n",
    "                                                     device=\"cpu\",\n",
    "                                                     is_train=True,\n",
    "                                                     repeat=False,\n",
    "                                                     pool_factor=8192)\n",
    "\n",
    "# Preload Experience Replay Buffer\n",
    "\n",
    "if len(model.replay_memory) == 0:\n",
    "    data = list(train_iter)\n",
    "    for example in data[:config.PRELOADING_SIZE]:\n",
    "        model.replay_memory.preload(example.src[0].squeeze(1), example.tgt.squeeze(1), 1)\n",
    "        model.sample_buffer.preload(example.src[0].squeeze(1), example.tgt.squeeze(1), None)"
   ]
  },
  {
   "cell_type": "code",
   "execution_count": 216,
   "metadata": {},
   "outputs": [],
   "source": [
    "%run modules/QLearning.py"
   ]
  },
  {
   "cell_type": "code",
   "execution_count": 217,
   "metadata": {},
   "outputs": [],
   "source": [
    "trainer = QLearning(config,\n",
    "                    model,\n",
    "                    reward=reward,\n",
    "                    train_loss=loss,\n",
    "                    valid_loss=loss,\n",
    "                    optim=optim,\n",
    "                    gpu_verbose_level=100)\n",
    "                    #shard_size = 0"
   ]
  },
  {
   "cell_type": "code",
   "execution_count": 218,
   "metadata": {},
   "outputs": [],
   "source": [
    "#for i in model.target_model.parameters():\n",
    "#    print(i.abs().sum())"
   ]
  },
  {
   "cell_type": "code",
   "execution_count": 219,
   "metadata": {},
   "outputs": [],
   "source": [
    "#for i, t in enumerate(model.replay_memory._storage):\n",
    "#    if t[1].size(0) > 10:\n",
    "#        print(i, t[1].size(0), t[1])\n",
    "    \n",
    "    #if t[1][-1].item() == 96:\n",
    "    #    print(i, t[1][-1])\n",
    "    #    print(t[1].size())\n",
    "    #print((t[1] == 0).sum())\n",
    "    #print(t[1].size(0))\n",
    "    \n",
    "#for x in model.replay_memory._storage:\n",
    "#    #print([t for t in x[1]])\n",
    "#    print(' '.join([tgt_vocab.itos[t.item()] for t in x[1]]))\n",
    "\n",
    "#for i, x in enumerate(data[:config.PRELOADING_SIZE]):\n",
    "#    print(' '.join([tgt_vocab.itos[token] for token in x.src[0].squeeze().tolist()]))"
   ]
  },
  {
   "cell_type": "code",
   "execution_count": 220,
   "metadata": {},
   "outputs": [
    {
     "name": "stderr",
     "output_type": "stream",
     "text": [
      "INFO:root:Start training loop and validate every 200 steps...\n",
      "INFO:root:Step 1\n"
     ]
    },
    {
     "name": "stdout",
     "output_type": "stream",
     "text": [
      "BETA 0.40006\n"
     ]
    },
    {
     "name": "stderr",
     "output_type": "stream",
     "text": [
      "INFO:root:Batch Length: tensor([10, 10, 10,  9,  9,  8,  8,  6,  6,  6,  5,  5,  5,  5,  5,  4,  4,  3,\n",
      "         3,  3,  3,  3,  3,  3,  3,  3,  2,  2,  2,  2,  1,  1],\n",
      "       dtype=torch.int16)\n",
      "INFO:root:tensor(0.8379, grad_fn=<DivBackward0>)\n",
      "INFO:root:Step 2\n"
     ]
    },
    {
     "name": "stdout",
     "output_type": "stream",
     "text": [
      "BETA 0.40012000000000003\n"
     ]
    },
    {
     "name": "stderr",
     "output_type": "stream",
     "text": [
      "INFO:root:Batch Length: tensor([10, 10, 10,  9,  9,  8,  8,  7,  6,  6,  6,  5,  5,  5,  4,  4,  4,  3,\n",
      "         3,  3,  3,  3,  2,  2,  2,  2,  2,  1,  1,  1,  1,  1],\n",
      "       dtype=torch.int16)\n",
      "INFO:root:tensor(18.2504, grad_fn=<DivBackward0>)\n",
      "INFO:root:Step 3\n"
     ]
    },
    {
     "name": "stdout",
     "output_type": "stream",
     "text": [
      "BETA 0.40018000000000004\n"
     ]
    },
    {
     "name": "stderr",
     "output_type": "stream",
     "text": [
      "INFO:root:Batch Length: tensor([10, 10, 10,  7,  7,  6,  6,  6,  6,  6,  5,  5,  5,  4,  4,  4,  4,  4,\n",
      "         4,  4,  4,  4,  3,  3,  2,  2,  2,  2,  2,  2,  2,  1],\n",
      "       dtype=torch.int16)\n",
      "INFO:root:tensor(15.8332, grad_fn=<DivBackward0>)\n",
      "INFO:root:Step 4\n"
     ]
    },
    {
     "name": "stdout",
     "output_type": "stream",
     "text": [
      "BETA 0.40024000000000004\n"
     ]
    },
    {
     "name": "stderr",
     "output_type": "stream",
     "text": [
      "INFO:root:Batch Length: tensor([10, 10, 10, 10,  9,  9,  8,  8,  8,  7,  7,  7,  7,  6,  6,  6,  6,  6,\n",
      "         5,  4,  4,  4,  3,  3,  3,  3,  2,  2,  2,  1,  1,  1],\n",
      "       dtype=torch.int16)\n",
      "INFO:root:tensor(17.8273, grad_fn=<DivBackward0>)\n",
      "INFO:root:Step 5\n"
     ]
    },
    {
     "name": "stdout",
     "output_type": "stream",
     "text": [
      "BETA 0.40030000000000004\n"
     ]
    },
    {
     "name": "stderr",
     "output_type": "stream",
     "text": [
      "INFO:root:Batch Length: tensor([10, 10, 10, 10, 10,  9,  8,  8,  8,  8,  8,  8,  7,  7,  6,  6,  5,  5,\n",
      "         5,  5,  4,  4,  4,  4,  4,  3,  2,  2,  2,  2,  2,  1],\n",
      "       dtype=torch.int16)\n",
      "INFO:root:tensor(1.1217, grad_fn=<DivBackward0>)\n",
      "INFO:root:Step 6\n"
     ]
    },
    {
     "name": "stdout",
     "output_type": "stream",
     "text": [
      "BETA 0.40036000000000005\n"
     ]
    },
    {
     "name": "stderr",
     "output_type": "stream",
     "text": [
      "INFO:root:Batch Length: tensor([10, 10, 10,  9,  9,  8,  7,  7,  7,  7,  7,  6,  6,  6,  6,  6,  5,  5,\n",
      "         5,  5,  5,  4,  4,  3,  3,  3,  3,  3,  2,  2,  2,  1],\n",
      "       dtype=torch.int16)\n",
      "INFO:root:tensor(15.2201, grad_fn=<DivBackward0>)\n",
      "INFO:root:Step 7\n"
     ]
    },
    {
     "name": "stdout",
     "output_type": "stream",
     "text": [
      "BETA 0.40042\n"
     ]
    },
    {
     "name": "stderr",
     "output_type": "stream",
     "text": [
      "INFO:root:Batch Length: tensor([10,  9,  9,  9,  9,  9,  8,  8,  7,  7,  7,  6,  6,  5,  5,  5,  5,  5,\n",
      "         5,  5,  5,  4,  3,  3,  3,  2,  2,  2,  2,  2,  2,  1],\n",
      "       dtype=torch.int16)\n",
      "INFO:root:tensor(6.1455, grad_fn=<DivBackward0>)\n",
      "INFO:root:Step 8\n"
     ]
    },
    {
     "name": "stdout",
     "output_type": "stream",
     "text": [
      "BETA 0.40048\n"
     ]
    },
    {
     "name": "stderr",
     "output_type": "stream",
     "text": [
      "INFO:root:Batch Length: tensor([10, 10, 10,  9,  9,  8,  8,  7,  6,  6,  5,  5,  5,  5,  5,  4,  4,  4,\n",
      "         4,  3,  3,  3,  2,  2,  2,  2,  2,  2,  2,  1,  1,  1],\n",
      "       dtype=torch.int16)\n",
      "INFO:root:tensor(48.4273, grad_fn=<DivBackward0>)\n",
      "INFO:root:Step 9\n"
     ]
    },
    {
     "name": "stdout",
     "output_type": "stream",
     "text": [
      "BETA 0.40054\n"
     ]
    },
    {
     "name": "stderr",
     "output_type": "stream",
     "text": [
      "INFO:root:Batch Length: tensor([9, 9, 9, 9, 8, 8, 7, 6, 6, 6, 6, 6, 6, 5, 5, 5, 5, 5, 5, 5, 5, 4, 4, 4,\n",
      "        3, 3, 3, 3, 3, 2, 2, 1], dtype=torch.int16)\n",
      "INFO:root:tensor(6.3792, grad_fn=<DivBackward0>)\n",
      "INFO:root:Step 10\n"
     ]
    },
    {
     "name": "stdout",
     "output_type": "stream",
     "text": [
      "BETA 0.4006\n"
     ]
    },
    {
     "name": "stderr",
     "output_type": "stream",
     "text": [
      "INFO:root:Batch Length: tensor([10, 10, 10, 10,  9,  9,  9,  9,  9,  8,  7,  7,  7,  6,  6,  5,  5,  4,\n",
      "         4,  3,  3,  3,  3,  3,  2,  2,  2,  2,  2,  1,  1,  1],\n",
      "       dtype=torch.int16)\n",
      "INFO:root:tensor(2.6179, grad_fn=<DivBackward0>)\n",
      "INFO:root:Step 11\n"
     ]
    },
    {
     "name": "stdout",
     "output_type": "stream",
     "text": [
      "BETA 0.40066\n"
     ]
    },
    {
     "name": "stderr",
     "output_type": "stream",
     "text": [
      "INFO:root:Batch Length: tensor([10, 10, 10, 10,  9,  8,  8,  8,  8,  7,  7,  6,  6,  6,  5,  5,  5,  4,\n",
      "         4,  4,  4,  4,  3,  3,  3,  3,  2,  2,  2,  2,  2,  1],\n",
      "       dtype=torch.int16)\n",
      "INFO:root:tensor(7.5849, grad_fn=<DivBackward0>)\n",
      "INFO:root:Step 12\n"
     ]
    },
    {
     "name": "stdout",
     "output_type": "stream",
     "text": [
      "BETA 0.40072\n"
     ]
    },
    {
     "name": "stderr",
     "output_type": "stream",
     "text": [
      "INFO:root:Batch Length: tensor([10, 10, 10, 10, 10, 10, 10,  9,  9,  8,  8,  5,  5,  5,  5,  5,  5,  4,\n",
      "         4,  3,  3,  3,  3,  3,  2,  2,  2,  2,  2,  2,  2,  1],\n",
      "       dtype=torch.int16)\n",
      "INFO:root:tensor(1.6294, grad_fn=<DivBackward0>)\n",
      "INFO:root:Step 13\n"
     ]
    },
    {
     "name": "stdout",
     "output_type": "stream",
     "text": [
      "BETA 0.40078\n"
     ]
    },
    {
     "name": "stderr",
     "output_type": "stream",
     "text": [
      "INFO:root:Batch Length: tensor([10,  9,  9,  8,  7,  7,  6,  5,  5,  5,  4,  4,  4,  4,  4,  4,  4,  3,\n",
      "         3,  2,  2,  2,  2,  2,  2,  2,  2,  2,  2,  1,  1,  1],\n",
      "       dtype=torch.int16)\n",
      "INFO:root:tensor(20.0777, grad_fn=<DivBackward0>)\n",
      "INFO:root:Step 14\n"
     ]
    },
    {
     "name": "stdout",
     "output_type": "stream",
     "text": [
      "BETA 0.40084000000000003\n"
     ]
    },
    {
     "name": "stderr",
     "output_type": "stream",
     "text": [
      "INFO:root:Batch Length: tensor([10, 10, 10,  9,  8,  8,  6,  6,  6,  6,  6,  5,  5,  5,  5,  5,  5,  4,\n",
      "         4,  4,  4,  4,  3,  3,  3,  2,  2,  2,  2,  2,  1,  1],\n",
      "       dtype=torch.int16)\n",
      "INFO:root:tensor(4.4806, grad_fn=<DivBackward0>)\n",
      "INFO:root:Step 15\n"
     ]
    },
    {
     "name": "stdout",
     "output_type": "stream",
     "text": [
      "BETA 0.40090000000000003\n"
     ]
    },
    {
     "name": "stderr",
     "output_type": "stream",
     "text": [
      "INFO:root:Batch Length: tensor([10, 10, 10, 10, 10, 10,  9,  9,  9,  8,  6,  6,  6,  5,  5,  5,  5,  4,\n",
      "         4,  4,  4,  3,  3,  3,  2,  2,  2,  2,  1,  1,  1,  1],\n",
      "       dtype=torch.int16)\n",
      "INFO:root:tensor(39.1105, grad_fn=<DivBackward0>)\n",
      "INFO:root:Step 16\n"
     ]
    },
    {
     "name": "stdout",
     "output_type": "stream",
     "text": [
      "BETA 0.40096000000000004\n"
     ]
    },
    {
     "name": "stderr",
     "output_type": "stream",
     "text": [
      "INFO:root:Batch Length: tensor([10, 10, 10, 10, 10,  8,  7,  7,  6,  6,  5,  5,  5,  5,  4,  4,  4,  4,\n",
      "         4,  4,  4,  3,  3,  3,  2,  2,  2,  2,  1,  1,  1,  1],\n",
      "       dtype=torch.int16)\n",
      "INFO:root:tensor(0.8666, grad_fn=<DivBackward0>)\n",
      "INFO:root:Step 17\n"
     ]
    },
    {
     "name": "stdout",
     "output_type": "stream",
     "text": [
      "BETA 0.40102000000000004\n"
     ]
    },
    {
     "name": "stderr",
     "output_type": "stream",
     "text": [
      "INFO:root:Batch Length: tensor([10, 10, 10, 10, 10,  9,  9,  8,  8,  8,  8,  8,  7,  7,  6,  5,  5,  5,\n",
      "         5,  4,  4,  4,  4,  4,  4,  4,  3,  3,  3,  2,  1,  1],\n",
      "       dtype=torch.int16)\n",
      "INFO:root:tensor(50.1139, grad_fn=<DivBackward0>)\n",
      "INFO:root:Step 18\n"
     ]
    },
    {
     "name": "stdout",
     "output_type": "stream",
     "text": [
      "BETA 0.40108000000000005\n"
     ]
    },
    {
     "name": "stderr",
     "output_type": "stream",
     "text": [
      "INFO:root:Batch Length: tensor([10, 10, 10, 10, 10,  9,  9,  8,  7,  7,  6,  5,  5,  5,  5,  5,  5,  5,\n",
      "         5,  4,  3,  3,  3,  2,  2,  2,  2,  2,  1,  1,  1,  1],\n",
      "       dtype=torch.int16)\n",
      "INFO:root:tensor(0.7454, grad_fn=<DivBackward0>)\n",
      "INFO:root:Step 19\n"
     ]
    },
    {
     "name": "stdout",
     "output_type": "stream",
     "text": [
      "BETA 0.40114\n"
     ]
    },
    {
     "name": "stderr",
     "output_type": "stream",
     "text": [
      "INFO:root:Batch Length: tensor([10,  9,  8,  8,  8,  7,  7,  7,  7,  7,  6,  5,  5,  5,  4,  4,  4,  4,\n",
      "         4,  4,  4,  3,  3,  3,  2,  2,  2,  2,  2,  2,  1,  1],\n",
      "       dtype=torch.int16)\n",
      "INFO:root:tensor(4.0065, grad_fn=<DivBackward0>)\n",
      "INFO:root:Step 20\n"
     ]
    },
    {
     "name": "stdout",
     "output_type": "stream",
     "text": [
      "BETA 0.4012\n"
     ]
    },
    {
     "name": "stderr",
     "output_type": "stream",
     "text": [
      "INFO:root:Batch Length: tensor([10, 10, 10, 10,  9,  9,  8,  8,  7,  7,  7,  7,  5,  5,  5,  4,  3,  3,\n",
      "         3,  3,  3,  3,  3,  2,  2,  2,  2,  2,  2,  1,  1,  1],\n",
      "       dtype=torch.int16)\n",
      "INFO:root:tensor(2.4332, grad_fn=<DivBackward0>)\n",
      "INFO:root:Target Model Updated\n",
      "INFO:root:Step 21\n"
     ]
    },
    {
     "name": "stdout",
     "output_type": "stream",
     "text": [
      "BETA 0.40126\n"
     ]
    },
    {
     "name": "stderr",
     "output_type": "stream",
     "text": [
      "INFO:root:Batch Length: tensor([10, 10, 10,  9,  8,  8,  7,  7,  7,  7,  6,  6,  6,  6,  5,  5,  5,  4,\n",
      "         4,  4,  3,  3,  3,  3,  3,  2,  2,  2,  2,  2,  2,  1],\n",
      "       dtype=torch.int16)\n",
      "INFO:root:tensor(9.3643, grad_fn=<DivBackward0>)\n",
      "INFO:root:Step 22\n"
     ]
    },
    {
     "name": "stdout",
     "output_type": "stream",
     "text": [
      "BETA 0.40132\n"
     ]
    },
    {
     "name": "stderr",
     "output_type": "stream",
     "text": [
      "INFO:root:Batch Length: tensor([10, 10, 10, 10, 10,  9,  8,  8,  8,  7,  7,  6,  6,  6,  6,  5,  5,  5,\n",
      "         5,  5,  4,  4,  4,  3,  2,  2,  2,  2,  2,  2,  1,  1],\n",
      "       dtype=torch.int16)\n",
      "INFO:root:tensor(10.7370, grad_fn=<DivBackward0>)\n",
      "INFO:root:Step 23\n"
     ]
    },
    {
     "name": "stdout",
     "output_type": "stream",
     "text": [
      "BETA 0.40138\n"
     ]
    },
    {
     "name": "stderr",
     "output_type": "stream",
     "text": [
      "INFO:root:Batch Length: tensor([10, 10, 10, 10, 10,  9,  8,  8,  7,  7,  7,  7,  7,  6,  6,  5,  5,  5,\n",
      "         4,  4,  3,  3,  3,  3,  3,  2,  2,  2,  2,  2,  2,  1],\n",
      "       dtype=torch.int16)\n",
      "INFO:root:tensor(1.6038, grad_fn=<DivBackward0>)\n",
      "INFO:root:Step 24\n"
     ]
    },
    {
     "name": "stdout",
     "output_type": "stream",
     "text": [
      "BETA 0.40144\n"
     ]
    },
    {
     "name": "stderr",
     "output_type": "stream",
     "text": [
      "INFO:root:Batch Length: tensor([10, 10, 10, 10,  9,  9,  9,  8,  8,  7,  6,  6,  5,  5,  5,  5,  5,  4,\n",
      "         4,  4,  4,  3,  3,  3,  2,  2,  2,  2,  2,  2,  1,  1],\n",
      "       dtype=torch.int16)\n",
      "INFO:root:tensor(11.5348, grad_fn=<DivBackward0>)\n",
      "INFO:root:Step 25\n"
     ]
    },
    {
     "name": "stdout",
     "output_type": "stream",
     "text": [
      "BETA 0.4015\n"
     ]
    },
    {
     "name": "stderr",
     "output_type": "stream",
     "text": [
      "INFO:root:Batch Length: tensor([10,  9,  9,  9,  9,  8,  8,  8,  8,  7,  7,  7,  6,  6,  6,  5,  5,  5,\n",
      "         5,  5,  4,  4,  4,  4,  4,  4,  3,  3,  3,  2,  2,  2],\n",
      "       dtype=torch.int16)\n",
      "INFO:root:tensor(2.7157, grad_fn=<DivBackward0>)\n",
      "INFO:root:Step 26\n"
     ]
    },
    {
     "name": "stdout",
     "output_type": "stream",
     "text": [
      "BETA 0.40156000000000003\n"
     ]
    },
    {
     "name": "stderr",
     "output_type": "stream",
     "text": [
      "INFO:root:Batch Length: tensor([10, 10, 10,  8,  8,  8,  7,  6,  6,  6,  6,  5,  5,  5,  5,  4,  3,  3,\n",
      "         3,  2,  2,  2,  2,  2,  2,  2,  2,  1,  1,  1,  1,  1],\n",
      "       dtype=torch.int16)\n",
      "INFO:root:tensor(15.5908, grad_fn=<DivBackward0>)\n",
      "INFO:root:Step 27\n"
     ]
    },
    {
     "name": "stdout",
     "output_type": "stream",
     "text": [
      "BETA 0.40162000000000003\n"
     ]
    },
    {
     "name": "stderr",
     "output_type": "stream",
     "text": [
      "INFO:root:Batch Length: tensor([10,  9,  7,  6,  6,  6,  6,  6,  6,  5,  4,  4,  4,  4,  4,  4,  4,  4,\n",
      "         3,  3,  3,  3,  3,  3,  2,  2,  2,  2,  1,  1,  1,  1],\n",
      "       dtype=torch.int16)\n",
      "INFO:root:tensor(2.4449, grad_fn=<DivBackward0>)\n",
      "INFO:root:Step 28\n"
     ]
    },
    {
     "name": "stdout",
     "output_type": "stream",
     "text": [
      "BETA 0.40168000000000004\n"
     ]
    },
    {
     "name": "stderr",
     "output_type": "stream",
     "text": [
      "INFO:root:Batch Length: tensor([10, 10, 10,  9,  8,  8,  8,  7,  7,  7,  7,  6,  6,  5,  5,  5,  5,  5,\n",
      "         5,  5,  5,  4,  4,  4,  4,  3,  3,  2,  2,  2,  1,  1],\n",
      "       dtype=torch.int16)\n",
      "INFO:root:tensor(22.8272, grad_fn=<DivBackward0>)\n",
      "INFO:root:Step 29\n"
     ]
    },
    {
     "name": "stdout",
     "output_type": "stream",
     "text": [
      "BETA 0.40174000000000004\n"
     ]
    },
    {
     "name": "stderr",
     "output_type": "stream",
     "text": [
      "INFO:root:Batch Length: tensor([10, 10, 10,  9,  9,  8,  8,  8,  8,  7,  7,  6,  6,  5,  5,  5,  5,  5,\n",
      "         5,  5,  4,  4,  4,  4,  4,  4,  2,  2,  2,  2,  1,  1],\n",
      "       dtype=torch.int16)\n",
      "INFO:root:tensor(6.5571, grad_fn=<DivBackward0>)\n",
      "INFO:root:Step 30\n"
     ]
    },
    {
     "name": "stdout",
     "output_type": "stream",
     "text": [
      "BETA 0.40180000000000005\n"
     ]
    },
    {
     "name": "stderr",
     "output_type": "stream",
     "text": [
      "INFO:root:Batch Length: tensor([10, 10, 10,  9,  8,  8,  7,  7,  7,  6,  6,  6,  5,  5,  5,  5,  5,  5,\n",
      "         4,  4,  4,  4,  3,  3,  3,  3,  3,  2,  2,  2,  1,  1],\n",
      "       dtype=torch.int16)\n",
      "INFO:root:tensor(3.5597, grad_fn=<DivBackward0>)\n",
      "INFO:root:Step 31\n"
     ]
    },
    {
     "name": "stdout",
     "output_type": "stream",
     "text": [
      "BETA 0.40186\n"
     ]
    },
    {
     "name": "stderr",
     "output_type": "stream",
     "text": [
      "INFO:root:Sampling: Collecting new data\n",
      "INFO:root:Batch Length: tensor([10, 10,  9,  9,  8,  8,  8,  8,  6,  6,  5,  5,  5,  5,  5,  4,  4,  4,\n",
      "         4,  4,  4,  3,  3,  3,  3,  2,  2,  2,  2,  2,  1,  1],\n",
      "       dtype=torch.int16)\n"
     ]
    },
    {
     "name": "stdout",
     "output_type": "stream",
     "text": [
      "'bout </s> (0.27301207184791565)\n"
     ]
    },
    {
     "name": "stderr",
     "output_type": "stream",
     "text": [
      "INFO:root:Using / Replacing Index 300\n"
     ]
    },
    {
     "name": "stdout",
     "output_type": "stream",
     "text": [
      "'bout </s> (0.11390777677297592)\n"
     ]
    },
    {
     "name": "stderr",
     "output_type": "stream",
     "text": [
      "INFO:root:Using / Replacing Index 301\n"
     ]
    },
    {
     "name": "stdout",
     "output_type": "stream",
     "text": [
      "'bout </s> (0.3593041002750397)\n"
     ]
    },
    {
     "name": "stderr",
     "output_type": "stream",
     "text": [
      "INFO:root:Using / Replacing Index 302\n"
     ]
    },
    {
     "name": "stdout",
     "output_type": "stream",
     "text": [
      "Everything Everything </s> (0.3593041002750397)\n"
     ]
    },
    {
     "name": "stderr",
     "output_type": "stream",
     "text": [
      "INFO:root:Using / Replacing Index 303\n"
     ]
    },
    {
     "name": "stdout",
     "output_type": "stream",
     "text": [
      "Everything Everything </s> (0.12605968117713928)\n"
     ]
    },
    {
     "name": "stderr",
     "output_type": "stream",
     "text": [
      "INFO:root:Using / Replacing Index 304\n"
     ]
    },
    {
     "name": "stdout",
     "output_type": "stream",
     "text": [
      "Everything </s> (0.16036590933799744)\n"
     ]
    },
    {
     "name": "stderr",
     "output_type": "stream",
     "text": [
      "INFO:root:Using / Replacing Index 305\n"
     ]
    },
    {
     "name": "stdout",
     "output_type": "stream",
     "text": [
      "'bout </s> (0.5372849702835083)\n"
     ]
    },
    {
     "name": "stderr",
     "output_type": "stream",
     "text": [
      "INFO:root:Using / Replacing Index 306\n",
      "INFO:root:Batch Length: tensor([10, 10,  8,  7,  7,  7,  6,  6,  6,  5,  5,  5,  4,  4,  4,  4,  4,  4,\n",
      "         3,  3,  2,  2,  2,  2,  2,  2,  2,  2,  1,  1,  1,  1],\n",
      "       dtype=torch.int16)\n",
      "INFO:root:tensor(7.1903, grad_fn=<DivBackward0>)\n",
      "INFO:root:Step 32\n"
     ]
    },
    {
     "name": "stdout",
     "output_type": "stream",
     "text": [
      "BETA 0.40192\n"
     ]
    },
    {
     "name": "stderr",
     "output_type": "stream",
     "text": [
      "INFO:root:Sampling: Collecting new data\n",
      "INFO:root:Batch Length: tensor([9, 8, 8, 8, 8, 7, 7, 6, 6, 5, 5, 5, 5, 4, 4, 4, 4, 4, 4, 4, 3, 3, 3, 3,\n",
      "        3, 2, 2, 2, 2, 1, 1, 1], dtype=torch.int16)\n",
      "INFO:root:Batch Length: tensor([10, 10,  9,  9,  9,  9,  8,  8,  8,  7,  6,  6,  6,  6,  6,  5,  4,  4,\n",
      "         4,  4,  4,  3,  3,  3,  3,  3,  3,  3,  2,  2,  1,  1],\n",
      "       dtype=torch.int16)\n",
      "INFO:root:tensor(30.8800, grad_fn=<DivBackward0>)\n",
      "INFO:root:Step 33\n"
     ]
    },
    {
     "name": "stdout",
     "output_type": "stream",
     "text": [
      "BETA 0.40198\n"
     ]
    },
    {
     "name": "stderr",
     "output_type": "stream",
     "text": [
      "INFO:root:Sampling: Collecting new data\n",
      "INFO:root:Batch Length: tensor([10, 10, 10, 10,  9,  9,  8,  7,  7,  7,  6,  6,  5,  5,  5,  4,  4,  4,\n",
      "         4,  3,  3,  3,  3,  3,  2,  2,  2,  2,  2,  2,  2,  1],\n",
      "       dtype=torch.int16)\n",
      "INFO:root:Batch Length: tensor([10, 10, 10, 10,  9,  8,  8,  8,  8,  8,  7,  7,  6,  6,  5,  5,  4,  4,\n",
      "         4,  3,  3,  3,  3,  3,  3,  2,  2,  1,  1,  1,  1,  1],\n",
      "       dtype=torch.int16)\n",
      "INFO:root:tensor(1.7257, grad_fn=<DivBackward0>)\n",
      "INFO:root:Step 34\n"
     ]
    },
    {
     "name": "stdout",
     "output_type": "stream",
     "text": [
      "BETA 0.40204\n"
     ]
    },
    {
     "name": "stderr",
     "output_type": "stream",
     "text": [
      "INFO:root:Sampling: Collecting new data\n",
      "INFO:root:Batch Length: tensor([10, 10, 10, 10,  9,  9,  8,  7,  7,  6,  6,  5,  5,  4,  4,  4,  3,  3,\n",
      "         3,  3,  3,  2,  2,  2,  2,  2,  1,  1,  1,  1,  1,  1],\n",
      "       dtype=torch.int16)\n",
      "INFO:root:Batch Length: tensor([10,  9,  9,  7,  7,  7,  6,  6,  6,  6,  5,  5,  5,  5,  5,  4,  4,  4,\n",
      "         4,  4,  4,  3,  3,  3,  3,  3,  3,  3,  3,  2,  2,  1],\n",
      "       dtype=torch.int16)\n",
      "INFO:root:tensor(11.7933, grad_fn=<DivBackward0>)\n",
      "INFO:root:Step 35\n"
     ]
    },
    {
     "name": "stdout",
     "output_type": "stream",
     "text": [
      "BETA 0.4021\n"
     ]
    },
    {
     "name": "stderr",
     "output_type": "stream",
     "text": [
      "INFO:root:Sampling: Collecting new data\n",
      "INFO:root:Batch Length: tensor([10, 10,  9,  9,  9,  7,  7,  7,  6,  6,  6,  6,  5,  5,  5,  5,  4,  4,\n",
      "         4,  3,  3,  3,  3,  3,  3,  3,  2,  2,  2,  2,  1,  1],\n",
      "       dtype=torch.int16)\n",
      "INFO:root:Batch Length: tensor([10, 10, 10, 10, 10,  9,  9,  8,  8,  8,  7,  7,  7,  6,  6,  6,  5,  5,\n",
      "         4,  4,  4,  4,  3,  3,  3,  3,  3,  2,  2,  1,  1,  1],\n",
      "       dtype=torch.int16)\n",
      "INFO:root:tensor(5.3554, grad_fn=<DivBackward0>)\n",
      "INFO:root:Step 36\n"
     ]
    },
    {
     "name": "stdout",
     "output_type": "stream",
     "text": [
      "BETA 0.40216\n"
     ]
    },
    {
     "name": "stderr",
     "output_type": "stream",
     "text": [
      "INFO:root:Sampling: Collecting new data\n",
      "INFO:root:Batch Length: tensor([10, 10, 10,  8,  8,  8,  7,  7,  6,  6,  6,  6,  6,  6,  5,  5,  5,  5,\n",
      "         5,  4,  4,  4,  4,  4,  3,  3,  3,  3,  3,  3,  2,  1],\n",
      "       dtype=torch.int16)\n",
      "INFO:root:Batch Length: tensor([10,  9,  9,  9,  9,  8,  8,  7,  6,  6,  6,  5,  5,  5,  5,  4,  4,  4,\n",
      "         4,  4,  3,  2,  2,  2,  2,  2,  2,  2,  2,  2,  2,  1],\n",
      "       dtype=torch.int16)\n",
      "INFO:root:tensor(2.9078, grad_fn=<DivBackward0>)\n",
      "INFO:root:Step 37\n"
     ]
    },
    {
     "name": "stdout",
     "output_type": "stream",
     "text": [
      "BETA 0.40222\n"
     ]
    },
    {
     "name": "stderr",
     "output_type": "stream",
     "text": [
      "INFO:root:Sampling: Collecting new data\n",
      "INFO:root:Batch Length: tensor([9, 7, 7, 7, 6, 6, 6, 6, 6, 6, 5, 5, 4, 4, 4, 4, 4, 4, 3, 3, 3, 3, 2, 2,\n",
      "        2, 2, 2, 2, 2, 2, 1, 1], dtype=torch.int16)\n",
      "INFO:root:Batch Length: tensor([10, 10,  9,  9,  8,  8,  8,  8,  7,  7,  7,  6,  6,  5,  5,  4,  4,  4,\n",
      "         3,  3,  3,  3,  3,  3,  3,  2,  2,  2,  2,  1,  1,  1],\n",
      "       dtype=torch.int16)\n",
      "INFO:root:tensor(9.6597, grad_fn=<DivBackward0>)\n",
      "INFO:root:Step 38\n"
     ]
    },
    {
     "name": "stdout",
     "output_type": "stream",
     "text": [
      "BETA 0.40228\n"
     ]
    },
    {
     "name": "stderr",
     "output_type": "stream",
     "text": [
      "INFO:root:Sampling: Collecting new data\n",
      "INFO:root:Batch Length: tensor([10,  9,  9,  9,  9,  8,  8,  8,  8,  7,  7,  6,  5,  5,  5,  5,  5,  4,\n",
      "         4,  4,  4,  4,  4,  4,  3,  2,  2,  2,  2,  2,  1,  1],\n",
      "       dtype=torch.int16)\n",
      "INFO:root:Batch Length: tensor([10,  9,  8,  8,  7,  7,  7,  7,  6,  5,  5,  4,  3,  3,  3,  3,  3,  3,\n",
      "         3,  3,  2,  2,  2,  2,  2,  2,  2,  1,  1,  1,  1,  1],\n",
      "       dtype=torch.int16)\n",
      "INFO:root:tensor(3.9018, grad_fn=<DivBackward0>)\n",
      "INFO:root:Step 39\n"
     ]
    },
    {
     "name": "stdout",
     "output_type": "stream",
     "text": [
      "BETA 0.40234000000000003\n"
     ]
    },
    {
     "name": "stderr",
     "output_type": "stream",
     "text": [
      "INFO:root:Sampling: Collecting new data\n",
      "INFO:root:Batch Length: tensor([10, 10,  9,  8,  8,  7,  7,  6,  5,  5,  5,  5,  5,  5,  4,  4,  4,  4,\n",
      "         4,  4,  3,  3,  3,  3,  3,  2,  2,  2,  2,  2,  1,  1],\n",
      "       dtype=torch.int16)\n",
      "INFO:root:Batch Length: tensor([10, 10,  9,  9,  8,  8,  7,  7,  7,  7,  6,  6,  5,  5,  5,  4,  4,  4,\n",
      "         4,  4,  3,  3,  3,  3,  2,  2,  2,  1,  1,  1,  1,  1],\n",
      "       dtype=torch.int16)\n",
      "INFO:root:tensor(15.3151, grad_fn=<DivBackward0>)\n",
      "INFO:root:Step 40\n"
     ]
    },
    {
     "name": "stdout",
     "output_type": "stream",
     "text": [
      "BETA 0.40240000000000004\n"
     ]
    },
    {
     "name": "stderr",
     "output_type": "stream",
     "text": [
      "INFO:root:Sampling: Collecting new data\n",
      "INFO:root:Batch Length: tensor([10,  9,  9,  8,  8,  7,  7,  6,  6,  5,  5,  5,  5,  5,  5,  4,  4,  4,\n",
      "         3,  3,  3,  3,  3,  3,  2,  2,  2,  2,  2,  2,  2,  1],\n",
      "       dtype=torch.int16)\n",
      "INFO:root:Batch Length: tensor([10, 10, 10,  9,  8,  8,  8,  8,  7,  7,  7,  6,  6,  5,  5,  5,  5,  4,\n",
      "         3,  3,  3,  3,  2,  2,  2,  1,  1,  1,  1,  1,  1,  1],\n",
      "       dtype=torch.int16)\n",
      "INFO:root:tensor(1.1816, grad_fn=<DivBackward0>)\n",
      "INFO:root:Target Model Updated\n",
      "INFO:root:Step 41\n"
     ]
    },
    {
     "name": "stdout",
     "output_type": "stream",
     "text": [
      "BETA 0.40246000000000004\n"
     ]
    },
    {
     "name": "stderr",
     "output_type": "stream",
     "text": [
      "INFO:root:Sampling: Collecting new data\n",
      "INFO:root:Batch Length: tensor([10, 10, 10,  9,  9,  8,  8,  8,  8,  7,  7,  6,  6,  6,  6,  5,  5,  4,\n",
      "         4,  4,  3,  3,  2,  2,  2,  2,  2,  2,  2,  2,  2,  1],\n",
      "       dtype=torch.int16)\n",
      "INFO:root:Batch Length: tensor([10,  9,  9,  9,  8,  8,  8,  8,  7,  6,  6,  5,  4,  4,  4,  4,  4,  3,\n",
      "         3,  3,  3,  2,  2,  2,  2,  2,  2,  2,  2,  1,  1,  1],\n",
      "       dtype=torch.int16)\n",
      "INFO:root:tensor(3.7441, grad_fn=<DivBackward0>)\n",
      "INFO:root:Step 42\n"
     ]
    },
    {
     "name": "stdout",
     "output_type": "stream",
     "text": [
      "BETA 0.40252000000000004\n"
     ]
    },
    {
     "name": "stderr",
     "output_type": "stream",
     "text": [
      "INFO:root:Sampling: Collecting new data\n",
      "INFO:root:Batch Length: tensor([10,  9,  9,  8,  7,  7,  7,  7,  7,  6,  6,  6,  6,  5,  5,  5,  5,  4,\n",
      "         4,  4,  3,  3,  3,  2,  2,  1,  1,  1,  1,  1,  1,  1],\n",
      "       dtype=torch.int16)\n",
      "INFO:root:Batch Length: tensor([10,  9,  9,  9,  9,  8,  8,  8,  7,  6,  5,  5,  5,  5,  4,  4,  4,  4,\n",
      "         4,  4,  3,  3,  3,  3,  3,  3,  3,  2,  2,  2,  1,  1],\n",
      "       dtype=torch.int16)\n",
      "INFO:root:tensor(3.9943, grad_fn=<DivBackward0>)\n",
      "INFO:root:Step 43\n"
     ]
    },
    {
     "name": "stdout",
     "output_type": "stream",
     "text": [
      "BETA 0.40258000000000005\n"
     ]
    },
    {
     "name": "stderr",
     "output_type": "stream",
     "text": [
      "INFO:root:Sampling: Collecting new data\n",
      "INFO:root:Batch Length: tensor([8, 8, 8, 8, 8, 7, 6, 6, 6, 5, 5, 5, 5, 5, 5, 4, 4, 4, 4, 3, 3, 3, 3, 2,\n",
      "        2, 2, 2, 2, 2, 1, 1, 1], dtype=torch.int16)\n",
      "INFO:root:Batch Length: tensor([10,  9,  8,  8,  8,  8,  8,  7,  7,  6,  6,  5,  5,  5,  5,  5,  4,  4,\n",
      "         4,  3,  3,  3,  3,  2,  2,  2,  2,  2,  2,  2,  1,  1],\n",
      "       dtype=torch.int16)\n",
      "INFO:root:tensor(12.3768, grad_fn=<DivBackward0>)\n",
      "INFO:root:Step 44\n"
     ]
    },
    {
     "name": "stdout",
     "output_type": "stream",
     "text": [
      "BETA 0.40264\n"
     ]
    },
    {
     "name": "stderr",
     "output_type": "stream",
     "text": [
      "INFO:root:Sampling: Collecting new data\n",
      "INFO:root:Batch Length: tensor([10, 10,  9,  7,  7,  6,  5,  5,  4,  4,  4,  4,  3,  3,  3,  3,  3,  3,\n",
      "         2,  2,  2,  2,  2,  2,  1,  1,  1,  1,  1,  1,  1,  1],\n",
      "       dtype=torch.int16)\n",
      "INFO:root:Batch Length: tensor([10, 10,  9,  9,  8,  8,  7,  6,  6,  6,  6,  5,  5,  5,  5,  4,  4,  4,\n",
      "         4,  3,  3,  3,  3,  2,  2,  2,  2,  2,  2,  1,  1,  1],\n",
      "       dtype=torch.int16)\n",
      "INFO:root:tensor(14.1118, grad_fn=<DivBackward0>)\n",
      "INFO:root:Step 45\n"
     ]
    },
    {
     "name": "stdout",
     "output_type": "stream",
     "text": [
      "BETA 0.4027\n"
     ]
    },
    {
     "name": "stderr",
     "output_type": "stream",
     "text": [
      "INFO:root:Sampling: Collecting new data\n",
      "INFO:root:Batch Length: tensor([10, 10, 10,  9,  9,  7,  7,  7,  7,  6,  6,  6,  5,  5,  5,  5,  4,  4,\n",
      "         4,  3,  2,  2,  2,  2,  2,  2,  2,  2,  2,  2,  2,  1],\n",
      "       dtype=torch.int16)\n",
      "INFO:root:Batch Length: tensor([10,  9,  9,  9,  8,  8,  8,  8,  8,  7,  7,  7,  6,  6,  5,  5,  5,  5,\n",
      "         5,  4,  4,  4,  4,  4,  3,  2,  2,  2,  2,  1,  1,  1],\n",
      "       dtype=torch.int16)\n",
      "INFO:root:tensor(72.2351, grad_fn=<DivBackward0>)\n",
      "INFO:root:Step 46\n"
     ]
    },
    {
     "name": "stdout",
     "output_type": "stream",
     "text": [
      "BETA 0.40276\n"
     ]
    },
    {
     "name": "stderr",
     "output_type": "stream",
     "text": [
      "INFO:root:Sampling: Collecting new data\n",
      "INFO:root:Batch Length: tensor([10, 10, 10,  9,  9,  7,  6,  6,  6,  5,  4,  4,  4,  4,  4,  3,  3,  3,\n",
      "         3,  3,  3,  3,  2,  2,  2,  2,  2,  2,  2,  2,  2,  1],\n",
      "       dtype=torch.int16)\n",
      "INFO:root:Batch Length: tensor([10, 10, 10, 10,  9,  9,  8,  8,  8,  8,  6,  6,  6,  6,  5,  5,  5,  5,\n",
      "         5,  5,  5,  5,  4,  3,  3,  3,  3,  2,  2,  2,  1,  1],\n",
      "       dtype=torch.int16)\n",
      "INFO:root:tensor(8.5127, grad_fn=<DivBackward0>)\n",
      "INFO:root:Step 47\n"
     ]
    },
    {
     "name": "stdout",
     "output_type": "stream",
     "text": [
      "BETA 0.40282\n"
     ]
    },
    {
     "name": "stderr",
     "output_type": "stream",
     "text": [
      "INFO:root:Sampling: Collecting new data\n",
      "INFO:root:Batch Length: tensor([10, 10,  9,  9,  8,  8,  7,  7,  6,  6,  6,  5,  5,  5,  5,  5,  5,  5,\n",
      "         5,  4,  3,  3,  2,  2,  2,  2,  2,  2,  2,  2,  1,  1],\n",
      "       dtype=torch.int16)\n",
      "INFO:root:Batch Length: tensor([10, 10,  9,  9,  8,  8,  6,  5,  5,  5,  5,  5,  5,  5,  4,  4,  4,  4,\n",
      "         4,  3,  3,  3,  2,  2,  2,  2,  2,  2,  2,  2,  2,  1],\n",
      "       dtype=torch.int16)\n",
      "INFO:root:tensor(0.9559, grad_fn=<DivBackward0>)\n",
      "INFO:root:Step 48\n"
     ]
    },
    {
     "name": "stdout",
     "output_type": "stream",
     "text": [
      "BETA 0.40288\n"
     ]
    },
    {
     "name": "stderr",
     "output_type": "stream",
     "text": [
      "INFO:root:Sampling: Collecting new data\n",
      "INFO:root:Batch Length: tensor([10, 10, 10, 10, 10, 10,  9,  8,  8,  7,  6,  6,  6,  5,  5,  5,  5,  5,\n",
      "         4,  4,  4,  4,  3,  2,  2,  2,  2,  2,  1,  1,  1,  1],\n",
      "       dtype=torch.int16)\n",
      "INFO:root:Batch Length: tensor([10,  9,  9,  9,  9,  9,  8,  8,  6,  6,  6,  5,  5,  5,  5,  5,  5,  5,\n",
      "         4,  4,  4,  4,  3,  2,  2,  2,  2,  1,  1,  1,  1,  1],\n",
      "       dtype=torch.int16)\n",
      "INFO:root:tensor(12.7540, grad_fn=<DivBackward0>)\n",
      "INFO:root:Step 49\n"
     ]
    },
    {
     "name": "stdout",
     "output_type": "stream",
     "text": [
      "BETA 0.40294\n"
     ]
    },
    {
     "name": "stderr",
     "output_type": "stream",
     "text": [
      "INFO:root:Sampling: Collecting new data\n",
      "INFO:root:Batch Length: tensor([10,  8,  8,  8,  8,  8,  7,  7,  7,  7,  6,  6,  6,  6,  5,  5,  5,  5,\n",
      "         5,  5,  4,  4,  4,  3,  3,  2,  2,  1,  1,  1,  1,  1],\n",
      "       dtype=torch.int16)\n",
      "INFO:root:Batch Length: tensor([10, 10, 10, 10, 10,  9,  9,  8,  8,  8,  8,  7,  7,  7,  7,  6,  6,  6,\n",
      "         6,  6,  5,  5,  4,  4,  4,  3,  2,  2,  1,  1,  1,  1],\n",
      "       dtype=torch.int16)\n",
      "INFO:root:tensor(31.1160, grad_fn=<DivBackward0>)\n",
      "INFO:root:Step 50\n"
     ]
    },
    {
     "name": "stdout",
     "output_type": "stream",
     "text": [
      "BETA 0.403\n"
     ]
    },
    {
     "name": "stderr",
     "output_type": "stream",
     "text": [
      "INFO:root:Sampling: Collecting new data\n",
      "INFO:root:Batch Length: tensor([10,  9,  8,  8,  7,  7,  6,  6,  5,  5,  5,  5,  5,  5,  5,  4,  4,  4,\n",
      "         4,  4,  4,  3,  3,  3,  3,  2,  2,  2,  2,  2,  1,  1],\n",
      "       dtype=torch.int16)\n",
      "INFO:root:Batch Length: tensor([10,  9,  8,  8,  7,  7,  7,  7,  6,  6,  5,  5,  5,  5,  5,  4,  4,  4,\n",
      "         4,  4,  4,  3,  3,  3,  2,  2,  2,  2,  1,  1,  1,  1],\n",
      "       dtype=torch.int16)\n",
      "INFO:root:tensor(9.2426, grad_fn=<DivBackward0>)\n",
      "INFO:root:Step 51\n"
     ]
    },
    {
     "name": "stdout",
     "output_type": "stream",
     "text": [
      "BETA 0.40306000000000003\n"
     ]
    },
    {
     "name": "stderr",
     "output_type": "stream",
     "text": [
      "INFO:root:Sampling: Collecting new data\n",
      "INFO:root:Batch Length: tensor([9, 9, 8, 8, 8, 8, 8, 8, 7, 6, 6, 6, 5, 5, 5, 5, 5, 4, 4, 3, 3, 3, 3, 3,\n",
      "        3, 2, 2, 2, 2, 2, 2, 1], dtype=torch.int16)\n",
      "INFO:root:Batch Length: tensor([10,  9,  9,  9,  9,  8,  8,  8,  8,  6,  6,  6,  5,  5,  5,  4,  4,  4,\n",
      "         4,  4,  3,  3,  3,  3,  3,  3,  3,  2,  2,  2,  1,  1],\n",
      "       dtype=torch.int16)\n",
      "INFO:root:tensor(2.1985, grad_fn=<DivBackward0>)\n",
      "INFO:root:Step 52\n"
     ]
    },
    {
     "name": "stdout",
     "output_type": "stream",
     "text": [
      "BETA 0.40312000000000003\n"
     ]
    },
    {
     "name": "stderr",
     "output_type": "stream",
     "text": [
      "INFO:root:Sampling: Collecting new data\n",
      "INFO:root:Batch Length: tensor([10, 10, 10,  8,  8,  7,  7,  7,  7,  6,  6,  5,  5,  5,  5,  5,  5,  5,\n",
      "         4,  3,  3,  3,  3,  3,  3,  3,  2,  2,  2,  2,  1,  1],\n",
      "       dtype=torch.int16)\n",
      "INFO:root:Batch Length: tensor([10, 10,  9,  8,  7,  7,  7,  7,  7,  6,  6,  6,  6,  6,  5,  5,  5,  4,\n",
      "         4,  4,  4,  4,  2,  2,  2,  2,  2,  2,  2,  1,  1,  1],\n",
      "       dtype=torch.int16)\n",
      "INFO:root:tensor(61.2424, grad_fn=<DivBackward0>)\n",
      "INFO:root:Step 53\n"
     ]
    },
    {
     "name": "stdout",
     "output_type": "stream",
     "text": [
      "BETA 0.40318000000000004\n"
     ]
    },
    {
     "name": "stderr",
     "output_type": "stream",
     "text": [
      "INFO:root:Sampling: Collecting new data\n",
      "INFO:root:Batch Length: tensor([10,  9,  8,  8,  8,  8,  7,  6,  6,  6,  6,  5,  5,  4,  4,  4,  4,  4,\n",
      "         4,  3,  3,  3,  2,  2,  2,  2,  2,  2,  2,  2,  1,  1],\n",
      "       dtype=torch.int16)\n",
      "INFO:root:Batch Length: tensor([10, 10, 10,  9,  8,  8,  8,  7,  7,  6,  6,  6,  5,  5,  5,  5,  4,  4,\n",
      "         4,  4,  4,  3,  3,  3,  3,  2,  2,  2,  2,  2,  2,  2],\n",
      "       dtype=torch.int16)\n",
      "INFO:root:tensor(2.2294, grad_fn=<DivBackward0>)\n",
      "INFO:root:Step 54\n"
     ]
    },
    {
     "name": "stdout",
     "output_type": "stream",
     "text": [
      "BETA 0.40324000000000004\n"
     ]
    },
    {
     "name": "stderr",
     "output_type": "stream",
     "text": [
      "INFO:root:Sampling: Collecting new data\n",
      "INFO:root:Batch Length: tensor([10,  9,  9,  9,  9,  9,  8,  6,  6,  6,  6,  6,  6,  6,  5,  5,  5,  5,\n",
      "         4,  4,  4,  4,  4,  4,  3,  3,  3,  3,  2,  2,  2,  2],\n",
      "       dtype=torch.int16)\n",
      "INFO:root:Batch Length: tensor([10,  8,  8,  8,  8,  8,  7,  7,  7,  6,  6,  6,  6,  6,  5,  5,  5,  5,\n",
      "         4,  2,  2,  2,  2,  2,  2,  2,  2,  2,  2,  2,  1,  1],\n",
      "       dtype=torch.int16)\n",
      "INFO:root:tensor(53.4515, grad_fn=<DivBackward0>)\n",
      "INFO:root:Step 55\n"
     ]
    },
    {
     "name": "stdout",
     "output_type": "stream",
     "text": [
      "BETA 0.40330000000000005\n"
     ]
    },
    {
     "name": "stderr",
     "output_type": "stream",
     "text": [
      "INFO:root:Sampling: Collecting new data\n",
      "INFO:root:Batch Length: tensor([10, 10,  9,  9,  8,  7,  7,  7,  7,  7,  5,  5,  4,  4,  4,  3,  3,  3,\n",
      "         3,  3,  3,  3,  3,  3,  2,  2,  2,  2,  2,  2,  1,  1],\n",
      "       dtype=torch.int16)\n",
      "INFO:root:Batch Length: tensor([10, 10, 10,  9,  9,  9,  9,  8,  7,  6,  5,  5,  5,  5,  5,  5,  5,  5,\n",
      "         5,  5,  4,  3,  3,  3,  3,  2,  2,  2,  2,  2,  2,  1],\n",
      "       dtype=torch.int16)\n",
      "INFO:root:tensor(2.0651, grad_fn=<DivBackward0>)\n",
      "INFO:root:Step 56\n"
     ]
    },
    {
     "name": "stdout",
     "output_type": "stream",
     "text": [
      "BETA 0.40336\n"
     ]
    },
    {
     "name": "stderr",
     "output_type": "stream",
     "text": [
      "INFO:root:Sampling: Collecting new data\n",
      "INFO:root:Batch Length: tensor([10,  9,  9,  8,  8,  8,  7,  7,  6,  5,  5,  5,  5,  5,  5,  5,  5,  5,\n",
      "         5,  5,  5,  4,  4,  4,  4,  4,  3,  3,  3,  3,  3,  1],\n",
      "       dtype=torch.int16)\n",
      "INFO:root:Batch Length: tensor([10, 10, 10,  9,  8,  8,  8,  8,  7,  7,  7,  6,  6,  5,  5,  5,  4,  4,\n",
      "         4,  4,  3,  2,  2,  2,  1,  1,  1,  1,  1,  1,  1,  1],\n",
      "       dtype=torch.int16)\n",
      "INFO:root:tensor(7.2997, grad_fn=<DivBackward0>)\n",
      "INFO:root:Step 57\n"
     ]
    },
    {
     "name": "stdout",
     "output_type": "stream",
     "text": [
      "BETA 0.40342\n"
     ]
    },
    {
     "name": "stderr",
     "output_type": "stream",
     "text": [
      "INFO:root:Sampling: Collecting new data\n",
      "INFO:root:Batch Length: tensor([10, 10, 10,  9,  9,  8,  8,  8,  8,  8,  7,  7,  6,  5,  5,  4,  4,  4,\n",
      "         4,  3,  3,  3,  3,  2,  2,  2,  2,  2,  1,  1,  1,  1],\n",
      "       dtype=torch.int16)\n",
      "INFO:root:Batch Length: tensor([10, 10, 10,  9,  9,  8,  8,  8,  8,  8,  6,  6,  5,  5,  5,  5,  5,  5,\n",
      "         4,  4,  3,  3,  3,  2,  2,  2,  2,  2,  2,  1,  1,  1],\n",
      "       dtype=torch.int16)\n",
      "INFO:root:tensor(9.1631, grad_fn=<DivBackward0>)\n",
      "INFO:root:Step 58\n"
     ]
    },
    {
     "name": "stdout",
     "output_type": "stream",
     "text": [
      "BETA 0.40348\n"
     ]
    },
    {
     "name": "stderr",
     "output_type": "stream",
     "text": [
      "INFO:root:Sampling: Collecting new data\n",
      "INFO:root:Batch Length: tensor([10, 10, 10, 10,  9,  9,  9,  8,  8,  8,  7,  7,  6,  6,  6,  6,  5,  5,\n",
      "         5,  5,  5,  5,  4,  4,  4,  4,  3,  3,  3,  2,  1,  1],\n",
      "       dtype=torch.int16)\n",
      "INFO:root:Batch Length: tensor([10, 10, 10,  9,  9,  8,  8,  8,  7,  7,  6,  6,  6,  6,  5,  5,  5,  5,\n",
      "         5,  5,  4,  4,  4,  4,  4,  4,  3,  3,  2,  2,  2,  1],\n",
      "       dtype=torch.int16)\n",
      "INFO:root:tensor(11.7391, grad_fn=<DivBackward0>)\n",
      "INFO:root:Step 59\n"
     ]
    },
    {
     "name": "stdout",
     "output_type": "stream",
     "text": [
      "BETA 0.40354\n"
     ]
    },
    {
     "name": "stderr",
     "output_type": "stream",
     "text": [
      "INFO:root:Sampling: Collecting new data\n",
      "INFO:root:Batch Length: tensor([10, 10, 10,  9,  8,  8,  7,  7,  7,  6,  6,  6,  6,  6,  6,  6,  5,  5,\n",
      "         5,  5,  4,  4,  4,  4,  3,  3,  3,  3,  3,  3,  2,  1],\n",
      "       dtype=torch.int16)\n",
      "INFO:root:Batch Length: tensor([10, 10, 10,  9,  9,  8,  7,  7,  7,  6,  6,  5,  5,  4,  4,  4,  4,  4,\n",
      "         3,  3,  3,  3,  2,  2,  2,  2,  2,  2,  1,  1,  1,  1],\n",
      "       dtype=torch.int16)\n",
      "INFO:root:tensor(6.1562, grad_fn=<DivBackward0>)\n",
      "INFO:root:Step 60\n"
     ]
    },
    {
     "name": "stdout",
     "output_type": "stream",
     "text": [
      "BETA 0.4036\n"
     ]
    },
    {
     "name": "stderr",
     "output_type": "stream",
     "text": [
      "INFO:root:Sampling: Collecting new data\n",
      "INFO:root:Batch Length: tensor([10,  9,  9,  9,  9,  9,  9,  8,  7,  7,  7,  5,  5,  5,  4,  4,  4,  4,\n",
      "         4,  3,  3,  2,  2,  2,  2,  2,  2,  2,  1,  1,  1,  1],\n",
      "       dtype=torch.int16)\n",
      "INFO:root:Batch Length: tensor([10, 10,  9,  9,  9,  8,  8,  7,  7,  6,  6,  6,  5,  5,  5,  5,  5,  5,\n",
      "         5,  5,  4,  4,  3,  3,  3,  2,  2,  1,  1,  1,  1,  1],\n",
      "       dtype=torch.int16)\n",
      "INFO:root:tensor(28.2323, grad_fn=<DivBackward0>)\n",
      "INFO:root:Target Model Updated\n",
      "INFO:root:Step 61\n"
     ]
    },
    {
     "name": "stdout",
     "output_type": "stream",
     "text": [
      "BETA 0.40366\n"
     ]
    },
    {
     "name": "stderr",
     "output_type": "stream",
     "text": [
      "INFO:root:Sampling: Collecting new data\n",
      "INFO:root:Batch Length: tensor([10, 10, 10, 10,  9,  9,  9,  8,  8,  7,  7,  6,  6,  6,  6,  6,  5,  5,\n",
      "         5,  5,  5,  5,  4,  4,  4,  4,  4,  3,  3,  2,  1,  1],\n",
      "       dtype=torch.int16)\n",
      "INFO:root:Batch Length: tensor([10, 10, 10, 10, 10,  9,  9,  8,  8,  8,  7,  7,  7,  6,  5,  5,  5,  4,\n",
      "         4,  3,  3,  3,  2,  2,  2,  2,  1,  1,  1,  1,  1,  1],\n",
      "       dtype=torch.int16)\n",
      "INFO:root:tensor(5.8638, grad_fn=<DivBackward0>)\n",
      "INFO:root:Step 62\n"
     ]
    },
    {
     "name": "stdout",
     "output_type": "stream",
     "text": [
      "BETA 0.40372\n"
     ]
    },
    {
     "name": "stderr",
     "output_type": "stream",
     "text": [
      "INFO:root:Sampling: Collecting new data\n",
      "INFO:root:Batch Length: tensor([10, 10,  9,  8,  8,  8,  8,  8,  7,  6,  5,  5,  5,  5,  4,  4,  4,  4,\n",
      "         4,  3,  3,  3,  3,  3,  3,  2,  2,  1,  1,  1,  1,  1],\n",
      "       dtype=torch.int16)\n",
      "INFO:root:Batch Length: tensor([10, 10, 10,  7,  7,  7,  7,  7,  7,  6,  6,  5,  5,  5,  5,  5,  4,  4,\n",
      "         4,  4,  4,  3,  3,  2,  2,  2,  2,  1,  1,  1,  1,  1],\n",
      "       dtype=torch.int16)\n",
      "INFO:root:tensor(2.6435, grad_fn=<DivBackward0>)\n",
      "INFO:root:Step 63\n"
     ]
    },
    {
     "name": "stdout",
     "output_type": "stream",
     "text": [
      "BETA 0.40378000000000003\n"
     ]
    },
    {
     "name": "stderr",
     "output_type": "stream",
     "text": [
      "INFO:root:Sampling: Collecting new data\n",
      "INFO:root:Batch Length: tensor([10, 10,  9,  8,  8,  7,  7,  7,  6,  6,  6,  6,  6,  5,  5,  5,  4,  4,\n",
      "         4,  4,  4,  4,  4,  4,  3,  2,  2,  1,  1,  1,  1,  1],\n",
      "       dtype=torch.int16)\n"
     ]
    },
    {
     "name": "stdout",
     "output_type": "stream",
     "text": [
      "<unk> <unk> <unk> <unk> <unk> <unk> <unk> <unk> <unk> <unk> <unk> <unk> (0.10764345526695251)\n"
     ]
    },
    {
     "name": "stderr",
     "output_type": "stream",
     "text": [
      "INFO:root:Using / Replacing Index 307\n"
     ]
    },
    {
     "name": "stdout",
     "output_type": "stream",
     "text": [
      "<unk> <unk> <unk> <unk> <unk> <unk> <unk> <unk> <unk> <unk> <unk> <unk> (0.05381409451365471)\n"
     ]
    },
    {
     "name": "stderr",
     "output_type": "stream",
     "text": [
      "INFO:root:Using / Replacing Index 308\n"
     ]
    },
    {
     "name": "stdout",
     "output_type": "stream",
     "text": [
      "<unk> <unk> <unk> <unk> <unk> <unk> <unk> <unk> <unk> <unk> <unk> <unk> (0.00430516479536891)\n"
     ]
    },
    {
     "name": "stderr",
     "output_type": "stream",
     "text": [
      "INFO:root:Using / Replacing Index 309\n"
     ]
    },
    {
     "name": "stdout",
     "output_type": "stream",
     "text": [
      "<unk> <unk> <unk> <unk> <unk> <unk> <unk> <unk> <unk> <unk> <unk> <unk> (0.0673239529132843)\n"
     ]
    },
    {
     "name": "stderr",
     "output_type": "stream",
     "text": [
      "INFO:root:Using / Replacing Index 310\n"
     ]
    },
    {
     "name": "stdout",
     "output_type": "stream",
     "text": [
      "<unk> <unk> <unk> <unk> <unk> <unk> <unk> <unk> <unk> <unk> <unk> <unk> (0.08126306533813477)\n"
     ]
    },
    {
     "name": "stderr",
     "output_type": "stream",
     "text": [
      "INFO:root:Using / Replacing Index 311\n"
     ]
    },
    {
     "name": "stdout",
     "output_type": "stream",
     "text": [
      "<unk> <unk> <unk> <unk> <unk> <unk> <unk> <unk> <unk> <unk> <unk> <unk> (0.06833381950855255)\n"
     ]
    },
    {
     "name": "stderr",
     "output_type": "stream",
     "text": [
      "INFO:root:Using / Replacing Index 312\n"
     ]
    },
    {
     "name": "stdout",
     "output_type": "stream",
     "text": [
      "<unk> <unk> <unk> <unk> <unk> <unk> <unk> <unk> <unk> <unk> <unk> <unk> (0.08179134130477905)\n"
     ]
    },
    {
     "name": "stderr",
     "output_type": "stream",
     "text": [
      "INFO:root:Using / Replacing Index 313\n"
     ]
    },
    {
     "name": "stdout",
     "output_type": "stream",
     "text": [
      "<unk> <unk> <unk> <unk> <unk> <unk> <unk> <unk> <unk> <unk> <unk> <unk> (0.02674984373152256)\n"
     ]
    },
    {
     "name": "stderr",
     "output_type": "stream",
     "text": [
      "INFO:root:Using / Replacing Index 314\n"
     ]
    },
    {
     "name": "stdout",
     "output_type": "stream",
     "text": [
      "<unk> <unk> <unk> <unk> <unk> <unk> <unk> <unk> <unk> <unk> <unk> <unk> (0.09093264490365982)\n"
     ]
    },
    {
     "name": "stderr",
     "output_type": "stream",
     "text": [
      "INFO:root:Using / Replacing Index 315\n"
     ]
    },
    {
     "name": "stdout",
     "output_type": "stream",
     "text": [
      "<unk> <unk> <unk> <unk> <unk> <unk> <unk> <unk> <unk> <unk> <unk> <unk> (0.10113117098808289)\n"
     ]
    },
    {
     "name": "stderr",
     "output_type": "stream",
     "text": [
      "INFO:root:Using / Replacing Index 316\n"
     ]
    },
    {
     "name": "stdout",
     "output_type": "stream",
     "text": [
      "<unk> <unk> <unk> <unk> <unk> <unk> <unk> <unk> <unk> <unk> <unk> <unk> (0.06399610638618469)\n"
     ]
    },
    {
     "name": "stderr",
     "output_type": "stream",
     "text": [
      "INFO:root:Using / Replacing Index 317\n"
     ]
    },
    {
     "name": "stdout",
     "output_type": "stream",
     "text": [
      "<unk> <unk> <unk> <unk> <unk> <unk> <unk> <unk> <unk> <unk> <unk> <unk> (0.04088987037539482)\n"
     ]
    },
    {
     "name": "stderr",
     "output_type": "stream",
     "text": [
      "INFO:root:Using / Replacing Index 318\n"
     ]
    },
    {
     "name": "stdout",
     "output_type": "stream",
     "text": [
      "<unk> <unk> <unk> <unk> <unk> <unk> <unk> <unk> <unk> <unk> <unk> <unk> (0.0673239529132843)\n"
     ]
    },
    {
     "name": "stderr",
     "output_type": "stream",
     "text": [
      "INFO:root:Using / Replacing Index 319\n"
     ]
    },
    {
     "name": "stdout",
     "output_type": "stream",
     "text": [
      "<unk> <unk> <unk> <unk> <unk> <unk> <unk> <unk> <unk> <unk> <unk> <unk> (0.022493846714496613)\n"
     ]
    },
    {
     "name": "stderr",
     "output_type": "stream",
     "text": [
      "INFO:root:Using / Replacing Index 320\n"
     ]
    },
    {
     "name": "stdout",
     "output_type": "stream",
     "text": [
      "<unk> <unk> <unk> <unk> <unk> <unk> <unk> <unk> <unk> <unk> <unk> <unk> (0.06399610638618469)\n"
     ]
    },
    {
     "name": "stderr",
     "output_type": "stream",
     "text": [
      "INFO:root:Using / Replacing Index 321\n"
     ]
    },
    {
     "name": "stdout",
     "output_type": "stream",
     "text": [
      "<unk> <unk> <unk> <unk> <unk> <unk> <unk> <unk> <unk> <unk> <unk> <unk> (0.00430516479536891)\n"
     ]
    },
    {
     "name": "stderr",
     "output_type": "stream",
     "text": [
      "INFO:root:Using / Replacing Index 322\n"
     ]
    },
    {
     "name": "stdout",
     "output_type": "stream",
     "text": [
      "<unk> <unk> <unk> <unk> <unk> <unk> <unk> <unk> <unk> <unk> <unk> <unk> (0.04862652346491814)\n"
     ]
    },
    {
     "name": "stderr",
     "output_type": "stream",
     "text": [
      "INFO:root:Using / Replacing Index 323\n"
     ]
    },
    {
     "name": "stdout",
     "output_type": "stream",
     "text": [
      "<unk> <unk> <unk> <unk> <unk> <unk> <unk> <unk> <unk> <unk> <unk> <unk> (0.04862652346491814)\n"
     ]
    },
    {
     "name": "stderr",
     "output_type": "stream",
     "text": [
      "INFO:root:Using / Replacing Index 324\n"
     ]
    },
    {
     "name": "stdout",
     "output_type": "stream",
     "text": [
      "<unk> <unk> <unk> <unk> <unk> <unk> <unk> <unk> <unk> <unk> <unk> <unk> (0.04088987037539482)\n"
     ]
    },
    {
     "name": "stderr",
     "output_type": "stream",
     "text": [
      "INFO:root:Using / Replacing Index 325\n"
     ]
    },
    {
     "name": "stdout",
     "output_type": "stream",
     "text": [
      "<unk> <unk> <unk> <unk> <unk> <unk> <unk> <unk> <unk> <unk> <unk> <unk> (0.0673239529132843)\n"
     ]
    },
    {
     "name": "stderr",
     "output_type": "stream",
     "text": [
      "INFO:root:Using / Replacing Index 326\n"
     ]
    },
    {
     "name": "stdout",
     "output_type": "stream",
     "text": [
      "<unk> <unk> <unk> <unk> <unk> <unk> <unk> <unk> <unk> <unk> <unk> <unk> (0.0673239529132843)\n"
     ]
    },
    {
     "name": "stderr",
     "output_type": "stream",
     "text": [
      "INFO:root:Using / Replacing Index 327\n"
     ]
    },
    {
     "name": "stdout",
     "output_type": "stream",
     "text": [
      "<unk> <unk> <unk> <unk> <unk> <unk> <unk> <unk> <unk> <unk> <unk> <unk> (0.09093264490365982)\n"
     ]
    },
    {
     "name": "stderr",
     "output_type": "stream",
     "text": [
      "INFO:root:Using / Replacing Index 328\n"
     ]
    },
    {
     "name": "stdout",
     "output_type": "stream",
     "text": [
      "<unk> <unk> <unk> <unk> <unk> <unk> <unk> <unk> <unk> <unk> <unk> <unk> (0.11967409402132034)\n"
     ]
    },
    {
     "name": "stderr",
     "output_type": "stream",
     "text": [
      "INFO:root:Using / Replacing Index 329\n"
     ]
    },
    {
     "name": "stdout",
     "output_type": "stream",
     "text": [
      "<unk> <unk> <unk> <unk> <unk> <unk> <unk> <unk> <unk> <unk> <unk> <unk> (0.11967409402132034)\n"
     ]
    },
    {
     "name": "stderr",
     "output_type": "stream",
     "text": [
      "INFO:root:Using / Replacing Index 330\n"
     ]
    },
    {
     "name": "stdout",
     "output_type": "stream",
     "text": [
      "<unk> <unk> <unk> <unk> <unk> <unk> <unk> <unk> <unk> <unk> <unk> <unk> (0.035204771906137466)\n"
     ]
    },
    {
     "name": "stderr",
     "output_type": "stream",
     "text": [
      "INFO:root:Using / Replacing Index 331\n"
     ]
    },
    {
     "name": "stdout",
     "output_type": "stream",
     "text": [
      "<unk> <unk> <unk> <unk> <unk> <unk> <unk> <unk> <unk> <unk> <unk> <unk> (0.022493846714496613)\n"
     ]
    },
    {
     "name": "stderr",
     "output_type": "stream",
     "text": [
      "INFO:root:Using / Replacing Index 332\n"
     ]
    },
    {
     "name": "stdout",
     "output_type": "stream",
     "text": [
      "<unk> now! now! </s> (0.2795279324054718)\n"
     ]
    },
    {
     "name": "stderr",
     "output_type": "stream",
     "text": [
      "INFO:root:Using / Replacing Index 333\n"
     ]
    },
    {
     "name": "stdout",
     "output_type": "stream",
     "text": [
      "<unk> <unk> <unk> <unk> <unk> <unk> <unk> <unk> <unk> <unk> <unk> <unk> (0.005119732581079006)\n"
     ]
    },
    {
     "name": "stderr",
     "output_type": "stream",
     "text": [
      "INFO:root:Using / Replacing Index 334\n"
     ]
    },
    {
     "name": "stdout",
     "output_type": "stream",
     "text": [
      "<unk> <unk> <unk> <unk> <unk> <unk> <unk> <unk> <unk> <unk> <unk> <unk> (0.09093264490365982)\n"
     ]
    },
    {
     "name": "stderr",
     "output_type": "stream",
     "text": [
      "INFO:root:Using / Replacing Index 335\n"
     ]
    },
    {
     "name": "stdout",
     "output_type": "stream",
     "text": [
      "<unk> <unk> <unk> <unk> <unk> <unk> <unk> <unk> <unk> <unk> <unk> <unk> (0.005119732581079006)\n"
     ]
    },
    {
     "name": "stderr",
     "output_type": "stream",
     "text": [
      "INFO:root:Using / Replacing Index 336\n"
     ]
    },
    {
     "name": "stdout",
     "output_type": "stream",
     "text": [
      "<unk> <unk> <unk> <unk> <unk> <unk> <unk> <unk> <unk> <unk> <unk> <unk> (0.022493846714496613)\n"
     ]
    },
    {
     "name": "stderr",
     "output_type": "stream",
     "text": [
      "INFO:root:Using / Replacing Index 337\n"
     ]
    },
    {
     "name": "stdout",
     "output_type": "stream",
     "text": [
      "<unk> <unk> <unk> <unk> <unk> <unk> <unk> <unk> <unk> <unk> <unk> <unk> (0.10764345526695251)\n"
     ]
    },
    {
     "name": "stderr",
     "output_type": "stream",
     "text": [
      "INFO:root:Using / Replacing Index 338\n",
      "INFO:root:Batch Length: tensor([10, 10, 10,  8,  8,  8,  8,  8,  7,  7,  7,  7,  6,  6,  6,  6,  6,  5,\n",
      "         5,  5,  5,  5,  5,  4,  4,  3,  2,  2,  2,  1,  1,  1],\n",
      "       dtype=torch.int16)\n",
      "INFO:root:tensor(16.5703, grad_fn=<DivBackward0>)\n",
      "INFO:root:Step 64\n"
     ]
    },
    {
     "name": "stdout",
     "output_type": "stream",
     "text": [
      "BETA 0.40384000000000003\n"
     ]
    },
    {
     "name": "stderr",
     "output_type": "stream",
     "text": [
      "INFO:root:Sampling: Collecting new data\n",
      "INFO:root:Batch Length: tensor([10, 10, 10,  9,  9,  9,  7,  7,  7,  6,  6,  6,  6,  5,  5,  5,  5,  5,\n",
      "         5,  4,  3,  3,  3,  3,  3,  2,  2,  2,  2,  1,  1,  1],\n",
      "       dtype=torch.int16)\n"
     ]
    },
    {
     "name": "stdout",
     "output_type": "stream",
     "text": [
      "<unk> <unk> <unk> <unk> <unk> <unk> <unk> <unk> <unk> <unk> <unk> <unk> (0.08993236720561981)\n"
     ]
    },
    {
     "name": "stderr",
     "output_type": "stream",
     "text": [
      "INFO:root:Using / Replacing Index 339\n"
     ]
    },
    {
     "name": "stdout",
     "output_type": "stream",
     "text": [
      "<unk> </s> (0.1857505738735199)\n"
     ]
    },
    {
     "name": "stderr",
     "output_type": "stream",
     "text": [
      "INFO:root:Using / Replacing Index 340\n"
     ]
    },
    {
     "name": "stdout",
     "output_type": "stream",
     "text": [
      "<unk> <unk> <unk> <unk> <unk> <unk> <unk> <unk> <unk> <unk> <unk> <unk> (0.022493846714496613)\n"
     ]
    },
    {
     "name": "stderr",
     "output_type": "stream",
     "text": [
      "INFO:root:Using / Replacing Index 341\n"
     ]
    },
    {
     "name": "stdout",
     "output_type": "stream",
     "text": [
      "<unk> <unk> <unk> <unk> <unk> <unk> <unk> <unk> <unk> <unk> <unk> <unk> (0.04088987037539482)\n"
     ]
    },
    {
     "name": "stderr",
     "output_type": "stream",
     "text": [
      "INFO:root:Using / Replacing Index 342\n"
     ]
    },
    {
     "name": "stdout",
     "output_type": "stream",
     "text": [
      "<unk> <unk> <unk> <unk> <unk> <unk> <unk> <unk> <unk> <unk> <unk> <unk> (0.022493846714496613)\n"
     ]
    },
    {
     "name": "stderr",
     "output_type": "stream",
     "text": [
      "INFO:root:Using / Replacing Index 343\n"
     ]
    },
    {
     "name": "stdout",
     "output_type": "stream",
     "text": [
      "<unk> <unk> <unk> <unk> <unk> <unk> <unk> <unk> <unk> <unk> <unk> <unk> (0.10764345526695251)\n"
     ]
    },
    {
     "name": "stderr",
     "output_type": "stream",
     "text": [
      "INFO:root:Using / Replacing Index 344\n"
     ]
    },
    {
     "name": "stdout",
     "output_type": "stream",
     "text": [
      "<unk> <unk> <unk> <unk> <unk> <unk> <unk> <unk> <unk> <unk> <unk> <unk> (0.10063351690769196)\n"
     ]
    },
    {
     "name": "stderr",
     "output_type": "stream",
     "text": [
      "INFO:root:Using / Replacing Index 345\n"
     ]
    },
    {
     "name": "stdout",
     "output_type": "stream",
     "text": [
      "<unk> <unk> <unk> <unk> <unk> <unk> <unk> <unk> <unk> <unk> <unk> <unk> (0.022493846714496613)\n"
     ]
    },
    {
     "name": "stderr",
     "output_type": "stream",
     "text": [
      "INFO:root:Using / Replacing Index 346\n"
     ]
    },
    {
     "name": "stdout",
     "output_type": "stream",
     "text": [
      "<unk> <unk> <unk> <unk> <unk> <unk> <unk> <unk> <unk> <unk> <unk> <unk> (0.1358305960893631)\n"
     ]
    },
    {
     "name": "stderr",
     "output_type": "stream",
     "text": [
      "INFO:root:Using / Replacing Index 347\n",
      "INFO:root:Batch Length: tensor([10, 10, 10, 10, 10,  8,  7,  7,  7,  7,  7,  7,  7,  6,  6,  6,  6,  6,\n",
      "         5,  5,  5,  4,  4,  4,  3,  2,  2,  2,  2,  2,  1,  1],\n",
      "       dtype=torch.int16)\n",
      "INFO:root:tensor(2.6881, grad_fn=<DivBackward0>)\n",
      "INFO:root:Step 65\n"
     ]
    },
    {
     "name": "stdout",
     "output_type": "stream",
     "text": [
      "BETA 0.40390000000000004\n"
     ]
    },
    {
     "name": "stderr",
     "output_type": "stream",
     "text": [
      "INFO:root:Sampling: Collecting new data\n",
      "INFO:root:Batch Length: tensor([10, 10,  9,  9,  9,  8,  7,  7,  7,  6,  6,  5,  5,  5,  5,  5,  4,  4,\n",
      "         4,  4,  3,  2,  2,  2,  2,  2,  2,  2,  2,  1,  1,  1],\n",
      "       dtype=torch.int16)\n",
      "INFO:root:Batch Length: tensor([10, 10,  9,  8,  8,  6,  6,  6,  6,  6,  5,  5,  5,  5,  4,  4,  4,  4,\n",
      "         3,  3,  3,  3,  2,  2,  2,  1,  1,  1,  1,  1,  1,  1],\n",
      "       dtype=torch.int16)\n",
      "INFO:root:tensor(16.2032, grad_fn=<DivBackward0>)\n",
      "INFO:root:Step 66\n"
     ]
    },
    {
     "name": "stdout",
     "output_type": "stream",
     "text": [
      "BETA 0.40396000000000004\n"
     ]
    },
    {
     "name": "stderr",
     "output_type": "stream",
     "text": [
      "INFO:root:Sampling: Collecting new data\n",
      "INFO:root:Batch Length: tensor([9, 9, 8, 8, 8, 8, 8, 7, 5, 5, 5, 5, 5, 5, 4, 4, 4, 4, 3, 3, 3, 3, 3, 2,\n",
      "        2, 2, 2, 2, 1, 1, 1, 1], dtype=torch.int16)\n",
      "INFO:root:Batch Length: tensor([10, 10,  9,  9,  9,  8,  8,  8,  8,  7,  7,  6,  6,  6,  5,  5,  5,  5,\n",
      "         5,  4,  4,  4,  3,  3,  2,  2,  2,  2,  2,  2,  1,  1],\n",
      "       dtype=torch.int16)\n",
      "INFO:root:tensor(33.2878, grad_fn=<DivBackward0>)\n",
      "INFO:root:Step 67\n"
     ]
    },
    {
     "name": "stdout",
     "output_type": "stream",
     "text": [
      "BETA 0.40402000000000005\n"
     ]
    },
    {
     "name": "stderr",
     "output_type": "stream",
     "text": [
      "INFO:root:Sampling: Collecting new data\n",
      "INFO:root:Batch Length: tensor([10,  8,  7,  7,  6,  6,  5,  5,  5,  5,  5,  4,  4,  4,  4,  3,  3,  3,\n",
      "         3,  3,  3,  3,  2,  2,  2,  2,  2,  2,  2,  1,  1,  1],\n",
      "       dtype=torch.int16)\n",
      "INFO:root:Batch Length: tensor([10, 10, 10,  9,  8,  8,  8,  7,  7,  7,  6,  6,  6,  6,  5,  5,  5,  5,\n",
      "         4,  4,  4,  4,  4,  4,  3,  3,  3,  2,  2,  2,  2,  1],\n",
      "       dtype=torch.int16)\n",
      "INFO:root:tensor(2.9056, grad_fn=<DivBackward0>)\n",
      "INFO:root:Step 68\n"
     ]
    },
    {
     "name": "stdout",
     "output_type": "stream",
     "text": [
      "BETA 0.40408\n"
     ]
    },
    {
     "name": "stderr",
     "output_type": "stream",
     "text": [
      "INFO:root:Sampling: Collecting new data\n",
      "INFO:root:Batch Length: tensor([10, 10, 10,  9,  9,  8,  8,  8,  8,  8,  7,  7,  7,  6,  5,  5,  5,  4,\n",
      "         4,  4,  4,  3,  3,  3,  3,  3,  2,  2,  2,  2,  2,  1],\n",
      "       dtype=torch.int16)\n"
     ]
    },
    {
     "name": "stdout",
     "output_type": "stream",
     "text": [
      "<unk> </s> (0.472870796918869)\n"
     ]
    },
    {
     "name": "stderr",
     "output_type": "stream",
     "text": [
      "INFO:root:Using / Replacing Index 348\n"
     ]
    },
    {
     "name": "stdout",
     "output_type": "stream",
     "text": [
      "<unk> </s> (1.0)\n"
     ]
    },
    {
     "name": "stderr",
     "output_type": "stream",
     "text": [
      "INFO:root:Using / Replacing Index 349\n"
     ]
    },
    {
     "name": "stdout",
     "output_type": "stream",
     "text": [
      "<unk> </s> (0.472870796918869)\n"
     ]
    },
    {
     "name": "stderr",
     "output_type": "stream",
     "text": [
      "INFO:root:Using / Replacing Index 350\n"
     ]
    },
    {
     "name": "stdout",
     "output_type": "stream",
     "text": [
      "<unk> </s> (0.20556680858135223)\n"
     ]
    },
    {
     "name": "stderr",
     "output_type": "stream",
     "text": [
      "INFO:root:Using / Replacing Index 351\n"
     ]
    },
    {
     "name": "stdout",
     "output_type": "stream",
     "text": [
      "<unk> </s> (0.24446150660514832)\n"
     ]
    },
    {
     "name": "stderr",
     "output_type": "stream",
     "text": [
      "INFO:root:Using / Replacing Index 352\n"
     ]
    },
    {
     "name": "stdout",
     "output_type": "stream",
     "text": [
      "<unk> </s> (0.7071067690849304)\n"
     ]
    },
    {
     "name": "stderr",
     "output_type": "stream",
     "text": [
      "INFO:root:Using / Replacing Index 353\n"
     ]
    },
    {
     "name": "stdout",
     "output_type": "stream",
     "text": [
      "<unk> </s> (0.472870796918869)\n"
     ]
    },
    {
     "name": "stderr",
     "output_type": "stream",
     "text": [
      "INFO:root:Using / Replacing Index 354\n"
     ]
    },
    {
     "name": "stdout",
     "output_type": "stream",
     "text": [
      "<unk> </s> (0.24446150660514832)\n"
     ]
    },
    {
     "name": "stderr",
     "output_type": "stream",
     "text": [
      "INFO:root:Using / Replacing Index 355\n"
     ]
    },
    {
     "name": "stdout",
     "output_type": "stream",
     "text": [
      "<unk> </s> (0.7071067690849304)\n"
     ]
    },
    {
     "name": "stderr",
     "output_type": "stream",
     "text": [
      "INFO:root:Using / Replacing Index 356\n"
     ]
    },
    {
     "name": "stdout",
     "output_type": "stream",
     "text": [
      "<unk> </s> (1.0)\n"
     ]
    },
    {
     "name": "stderr",
     "output_type": "stream",
     "text": [
      "INFO:root:Using / Replacing Index 357\n"
     ]
    },
    {
     "name": "stdout",
     "output_type": "stream",
     "text": [
      "<unk> </s> (0.20556680858135223)\n"
     ]
    },
    {
     "name": "stderr",
     "output_type": "stream",
     "text": [
      "INFO:root:Using / Replacing Index 358\n",
      "INFO:root:Batch Length: tensor([10, 10, 10, 10,  9,  8,  8,  8,  7,  7,  7,  5,  5,  4,  4,  4,  4,  4,\n",
      "         4,  4,  3,  3,  3,  2,  2,  2,  2,  2,  2,  2,  1,  1],\n",
      "       dtype=torch.int16)\n",
      "INFO:root:tensor(9.6575, grad_fn=<DivBackward0>)\n",
      "INFO:root:Step 69\n"
     ]
    },
    {
     "name": "stdout",
     "output_type": "stream",
     "text": [
      "BETA 0.40414\n"
     ]
    },
    {
     "name": "stderr",
     "output_type": "stream",
     "text": [
      "INFO:root:Sampling: Collecting new data\n",
      "INFO:root:Batch Length: tensor([10, 10,  9,  9,  8,  8,  7,  7,  5,  5,  5,  4,  4,  4,  4,  4,  3,  3,\n",
      "         3,  3,  2,  2,  2,  2,  2,  2,  2,  2,  1,  1,  1,  1],\n",
      "       dtype=torch.int16)\n",
      "INFO:root:Batch Length: tensor([9, 9, 8, 7, 6, 6, 6, 6, 5, 5, 5, 4, 4, 4, 3, 3, 3, 3, 3, 2, 2, 2, 2, 2,\n",
      "        1, 1, 1, 1, 1, 1, 1, 1], dtype=torch.int16)\n",
      "INFO:root:tensor(2.0188, grad_fn=<DivBackward0>)\n",
      "INFO:root:Step 70\n"
     ]
    },
    {
     "name": "stdout",
     "output_type": "stream",
     "text": [
      "BETA 0.4042\n"
     ]
    },
    {
     "name": "stderr",
     "output_type": "stream",
     "text": [
      "INFO:root:Sampling: Collecting new data\n",
      "INFO:root:Batch Length: tensor([10, 10,  9,  9,  9,  8,  8,  7,  6,  5,  5,  5,  5,  5,  5,  5,  4,  4,\n",
      "         3,  3,  2,  2,  2,  2,  2,  2,  2,  2,  1,  1,  1,  1],\n",
      "       dtype=torch.int16)\n"
     ]
    },
    {
     "name": "stdout",
     "output_type": "stream",
     "text": [
      "mention </s> (0.16036590933799744)\n"
     ]
    },
    {
     "name": "stderr",
     "output_type": "stream",
     "text": [
      "INFO:root:Using / Replacing Index 359\n"
     ]
    },
    {
     "name": "stdout",
     "output_type": "stream",
     "text": [
      "Let </s> (0.1411399245262146)\n"
     ]
    },
    {
     "name": "stderr",
     "output_type": "stream",
     "text": [
      "INFO:root:Using / Replacing Index 360\n",
      "INFO:root:Batch Length: tensor([10,  9,  9,  9,  8,  8,  8,  7,  7,  7,  7,  6,  6,  5,  5,  5,  5,  4,\n",
      "         4,  4,  4,  4,  3,  3,  2,  2,  2,  2,  2,  2,  1,  1],\n",
      "       dtype=torch.int16)\n",
      "INFO:root:tensor(24.8095, grad_fn=<DivBackward0>)\n",
      "INFO:root:Step 71\n"
     ]
    },
    {
     "name": "stdout",
     "output_type": "stream",
     "text": [
      "BETA 0.40426\n"
     ]
    },
    {
     "name": "stderr",
     "output_type": "stream",
     "text": [
      "INFO:root:Sampling: Collecting new data\n",
      "INFO:root:Batch Length: tensor([10, 10,  9,  9,  9,  8,  8,  8,  8,  6,  5,  5,  5,  5,  5,  5,  4,  4,\n",
      "         4,  4,  4,  3,  3,  3,  2,  2,  2,  2,  2,  2,  1,  1],\n",
      "       dtype=torch.int16)\n"
     ]
    },
    {
     "name": "stdout",
     "output_type": "stream",
     "text": [
      "<unk> </s> (0.220895916223526)\n"
     ]
    },
    {
     "name": "stderr",
     "output_type": "stream",
     "text": [
      "INFO:root:Using / Replacing Index 361\n"
     ]
    },
    {
     "name": "stdout",
     "output_type": "stream",
     "text": [
      "<unk> <unk> </s> (0.472870796918869)\n"
     ]
    },
    {
     "name": "stderr",
     "output_type": "stream",
     "text": [
      "INFO:root:Using / Replacing Index 362\n"
     ]
    },
    {
     "name": "stdout",
     "output_type": "stream",
     "text": [
      "<unk> </s> (0.1857505738735199)\n"
     ]
    },
    {
     "name": "stderr",
     "output_type": "stream",
     "text": [
      "INFO:root:Using / Replacing Index 363\n"
     ]
    },
    {
     "name": "stdout",
     "output_type": "stream",
     "text": [
      "<unk> </s> (0.1857505738735199)\n"
     ]
    },
    {
     "name": "stderr",
     "output_type": "stream",
     "text": [
      "INFO:root:Using / Replacing Index 364\n"
     ]
    },
    {
     "name": "stdout",
     "output_type": "stream",
     "text": [
      "<unk> </s> (0.1857505738735199)\n"
     ]
    },
    {
     "name": "stderr",
     "output_type": "stream",
     "text": [
      "INFO:root:Using / Replacing Index 365\n"
     ]
    },
    {
     "name": "stdout",
     "output_type": "stream",
     "text": [
      "<unk> </s> (0.29071536660194397)\n"
     ]
    },
    {
     "name": "stderr",
     "output_type": "stream",
     "text": [
      "INFO:root:Using / Replacing Index 366\n"
     ]
    },
    {
     "name": "stdout",
     "output_type": "stream",
     "text": [
      "<unk> </s> (0.29071536660194397)\n"
     ]
    },
    {
     "name": "stderr",
     "output_type": "stream",
     "text": [
      "INFO:root:Using / Replacing Index 367\n"
     ]
    },
    {
     "name": "stdout",
     "output_type": "stream",
     "text": [
      "<unk> </s> (0.27301207184791565)\n"
     ]
    },
    {
     "name": "stderr",
     "output_type": "stream",
     "text": [
      "INFO:root:Using / Replacing Index 368\n"
     ]
    },
    {
     "name": "stdout",
     "output_type": "stream",
     "text": [
      "<unk> </s> (0.21105340123176575)\n"
     ]
    },
    {
     "name": "stderr",
     "output_type": "stream",
     "text": [
      "INFO:root:Using / Replacing Index 369\n"
     ]
    },
    {
     "name": "stdout",
     "output_type": "stream",
     "text": [
      "<unk> </s> (0.21105340123176575)\n"
     ]
    },
    {
     "name": "stderr",
     "output_type": "stream",
     "text": [
      "INFO:root:Using / Replacing Index 370\n"
     ]
    },
    {
     "name": "stdout",
     "output_type": "stream",
     "text": [
      "<unk> </s> (0.15619699656963348)\n"
     ]
    },
    {
     "name": "stderr",
     "output_type": "stream",
     "text": [
      "INFO:root:Using / Replacing Index 371\n"
     ]
    },
    {
     "name": "stdout",
     "output_type": "stream",
     "text": [
      "<unk> </s> (0.16590386629104614)\n"
     ]
    },
    {
     "name": "stderr",
     "output_type": "stream",
     "text": [
      "INFO:root:Using / Replacing Index 372\n"
     ]
    },
    {
     "name": "stdout",
     "output_type": "stream",
     "text": [
      "<unk> </s> (0.27301207184791565)\n"
     ]
    },
    {
     "name": "stderr",
     "output_type": "stream",
     "text": [
      "INFO:root:Using / Replacing Index 373\n"
     ]
    },
    {
     "name": "stdout",
     "output_type": "stream",
     "text": [
      "<unk> </s> (0.3593041002750397)\n"
     ]
    },
    {
     "name": "stderr",
     "output_type": "stream",
     "text": [
      "INFO:root:Using / Replacing Index 374\n"
     ]
    },
    {
     "name": "stdout",
     "output_type": "stream",
     "text": [
      "<unk> </s> (0.24446150660514832)\n"
     ]
    },
    {
     "name": "stderr",
     "output_type": "stream",
     "text": [
      "INFO:root:Using / Replacing Index 375\n"
     ]
    },
    {
     "name": "stdout",
     "output_type": "stream",
     "text": [
      "<unk> <unk> </s> (0.27301207184791565)\n"
     ]
    },
    {
     "name": "stderr",
     "output_type": "stream",
     "text": [
      "INFO:root:Using / Replacing Index 376\n"
     ]
    },
    {
     "name": "stdout",
     "output_type": "stream",
     "text": [
      "<unk> </s> (0.7071067690849304)\n"
     ]
    },
    {
     "name": "stderr",
     "output_type": "stream",
     "text": [
      "INFO:root:Using / Replacing Index 377\n"
     ]
    },
    {
     "name": "stdout",
     "output_type": "stream",
     "text": [
      "<unk> </s> (0.24446150660514832)\n"
     ]
    },
    {
     "name": "stderr",
     "output_type": "stream",
     "text": [
      "INFO:root:Using / Replacing Index 378\n"
     ]
    },
    {
     "name": "stdout",
     "output_type": "stream",
     "text": [
      "<unk> </s> (0.7598356604576111)\n"
     ]
    },
    {
     "name": "stderr",
     "output_type": "stream",
     "text": [
      "INFO:root:Using / Replacing Index 379\n"
     ]
    },
    {
     "name": "stdout",
     "output_type": "stream",
     "text": [
      "<unk> </s> (0.472870796918869)\n"
     ]
    },
    {
     "name": "stderr",
     "output_type": "stream",
     "text": [
      "INFO:root:Using / Replacing Index 380\n"
     ]
    },
    {
     "name": "stdout",
     "output_type": "stream",
     "text": [
      "<unk> </s> (0.12605968117713928)\n"
     ]
    },
    {
     "name": "stderr",
     "output_type": "stream",
     "text": [
      "INFO:root:Using / Replacing Index 381\n"
     ]
    },
    {
     "name": "stdout",
     "output_type": "stream",
     "text": [
      "<unk> </s> (0.20556680858135223)\n"
     ]
    },
    {
     "name": "stderr",
     "output_type": "stream",
     "text": [
      "INFO:root:Using / Replacing Index 382\n"
     ]
    },
    {
     "name": "stdout",
     "output_type": "stream",
     "text": [
      "<unk> </s> (1.0)\n"
     ]
    },
    {
     "name": "stderr",
     "output_type": "stream",
     "text": [
      "INFO:root:Using / Replacing Index 383\n"
     ]
    },
    {
     "name": "stdout",
     "output_type": "stream",
     "text": [
      "<unk> </s> (0.1395079642534256)\n"
     ]
    },
    {
     "name": "stderr",
     "output_type": "stream",
     "text": [
      "INFO:root:Using / Replacing Index 384\n"
     ]
    },
    {
     "name": "stdout",
     "output_type": "stream",
     "text": [
      "<unk> </s> (0.5372849702835083)\n"
     ]
    },
    {
     "name": "stderr",
     "output_type": "stream",
     "text": [
      "INFO:root:Using / Replacing Index 385\n"
     ]
    },
    {
     "name": "stdout",
     "output_type": "stream",
     "text": [
      "<unk> <unk> </s> (0.2626909911632538)\n"
     ]
    },
    {
     "name": "stderr",
     "output_type": "stream",
     "text": [
      "INFO:root:Using / Replacing Index 386\n"
     ]
    },
    {
     "name": "stdout",
     "output_type": "stream",
     "text": [
      "<unk> </s> (0.3593041002750397)\n"
     ]
    },
    {
     "name": "stderr",
     "output_type": "stream",
     "text": [
      "INFO:root:Using / Replacing Index 387\n"
     ]
    },
    {
     "name": "stdout",
     "output_type": "stream",
     "text": [
      "<unk> </s> (0.20556680858135223)\n"
     ]
    },
    {
     "name": "stderr",
     "output_type": "stream",
     "text": [
      "INFO:root:Using / Replacing Index 388\n"
     ]
    },
    {
     "name": "stdout",
     "output_type": "stream",
     "text": [
      "<unk> </s> (0.5372849702835083)\n"
     ]
    },
    {
     "name": "stderr",
     "output_type": "stream",
     "text": [
      "INFO:root:Using / Replacing Index 389\n"
     ]
    },
    {
     "name": "stdout",
     "output_type": "stream",
     "text": [
      "<unk> </s> (0.472870796918869)\n"
     ]
    },
    {
     "name": "stderr",
     "output_type": "stream",
     "text": [
      "INFO:root:Using / Replacing Index 390\n"
     ]
    },
    {
     "name": "stdout",
     "output_type": "stream",
     "text": [
      "<unk> </s> (0.27301207184791565)\n"
     ]
    },
    {
     "name": "stderr",
     "output_type": "stream",
     "text": [
      "INFO:root:Using / Replacing Index 391\n"
     ]
    },
    {
     "name": "stdout",
     "output_type": "stream",
     "text": [
      "<unk> </s> (1.0)\n"
     ]
    },
    {
     "name": "stderr",
     "output_type": "stream",
     "text": [
      "INFO:root:Using / Replacing Index 392\n",
      "INFO:root:Batch Length: tensor([10, 10,  9,  9,  8,  8,  8,  7,  6,  6,  6,  6,  6,  6,  5,  5,  4,  4,\n",
      "         4,  4,  4,  4,  3,  3,  3,  2,  2,  2,  1,  1,  1,  1],\n",
      "       dtype=torch.int16)\n",
      "INFO:root:tensor(70.4916, grad_fn=<DivBackward0>)\n",
      "INFO:root:Step 72\n"
     ]
    },
    {
     "name": "stdout",
     "output_type": "stream",
     "text": [
      "BETA 0.40432\n"
     ]
    },
    {
     "name": "stderr",
     "output_type": "stream",
     "text": [
      "INFO:root:Sampling: Collecting new data\n",
      "INFO:root:Batch Length: tensor([10,  8,  8,  8,  8,  8,  8,  7,  7,  6,  6,  5,  5,  5,  5,  5,  5,  5,\n",
      "         5,  4,  4,  4,  4,  3,  3,  2,  2,  2,  2,  2,  1,  1],\n",
      "       dtype=torch.int16)\n"
     ]
    },
    {
     "name": "stdout",
     "output_type": "stream",
     "text": [
      "<unk> <unk> <unk> <unk> <unk> <unk> <unk> <unk> <unk> <unk> <unk> <unk> (0.04088987037539482)\n"
     ]
    },
    {
     "name": "stderr",
     "output_type": "stream",
     "text": [
      "INFO:root:Using / Replacing Index 393\n"
     ]
    },
    {
     "name": "stdout",
     "output_type": "stream",
     "text": [
      "<unk> <unk> <unk> <unk> <unk> <unk> <unk> <unk> <unk> <unk> <unk> <unk> (0.0673239529132843)\n"
     ]
    },
    {
     "name": "stderr",
     "output_type": "stream",
     "text": [
      "INFO:root:Using / Replacing Index 394\n"
     ]
    },
    {
     "name": "stdout",
     "output_type": "stream",
     "text": [
      "<unk> <unk> <unk> <unk> <unk> <unk> <unk> <unk> <unk> <unk> <unk> <unk> (0.022493846714496613)\n"
     ]
    },
    {
     "name": "stderr",
     "output_type": "stream",
     "text": [
      "INFO:root:Using / Replacing Index 395\n"
     ]
    },
    {
     "name": "stdout",
     "output_type": "stream",
     "text": [
      "<unk> </s> (0.24446150660514832)\n"
     ]
    },
    {
     "name": "stderr",
     "output_type": "stream",
     "text": [
      "INFO:root:Using / Replacing Index 396\n"
     ]
    },
    {
     "name": "stdout",
     "output_type": "stream",
     "text": [
      "<unk> </s> (0.24446150660514832)\n"
     ]
    },
    {
     "name": "stderr",
     "output_type": "stream",
     "text": [
      "INFO:root:Using / Replacing Index 397\n"
     ]
    },
    {
     "name": "stdout",
     "output_type": "stream",
     "text": [
      "<unk> </s> (0.7071067690849304)\n"
     ]
    },
    {
     "name": "stderr",
     "output_type": "stream",
     "text": [
      "INFO:root:Using / Replacing Index 398\n"
     ]
    },
    {
     "name": "stdout",
     "output_type": "stream",
     "text": [
      "<unk> </s> (0.24446150660514832)\n"
     ]
    },
    {
     "name": "stderr",
     "output_type": "stream",
     "text": [
      "INFO:root:Using / Replacing Index 399\n"
     ]
    },
    {
     "name": "stdout",
     "output_type": "stream",
     "text": [
      "<unk> </s> (0.27301207184791565)\n"
     ]
    },
    {
     "name": "stderr",
     "output_type": "stream",
     "text": [
      "INFO:root:Using / Replacing Index 400\n"
     ]
    },
    {
     "name": "stdout",
     "output_type": "stream",
     "text": [
      "<unk> </s> (0.17747405171394348)\n"
     ]
    },
    {
     "name": "stderr",
     "output_type": "stream",
     "text": [
      "INFO:root:Using / Replacing Index 401\n"
     ]
    },
    {
     "name": "stdout",
     "output_type": "stream",
     "text": [
      "<unk> </s> (0.302137553691864)\n"
     ]
    },
    {
     "name": "stderr",
     "output_type": "stream",
     "text": [
      "INFO:root:Using / Replacing Index 402\n"
     ]
    },
    {
     "name": "stdout",
     "output_type": "stream",
     "text": [
      "<unk> </s> (0.472870796918869)\n"
     ]
    },
    {
     "name": "stderr",
     "output_type": "stream",
     "text": [
      "INFO:root:Using / Replacing Index 403\n"
     ]
    },
    {
     "name": "stdout",
     "output_type": "stream",
     "text": [
      "<unk> </s> (0.15619699656963348)\n"
     ]
    },
    {
     "name": "stderr",
     "output_type": "stream",
     "text": [
      "INFO:root:Using / Replacing Index 404\n"
     ]
    },
    {
     "name": "stdout",
     "output_type": "stream",
     "text": [
      "<unk> </s> (0.1395079642534256)\n"
     ]
    },
    {
     "name": "stderr",
     "output_type": "stream",
     "text": [
      "INFO:root:Using / Replacing Index 405\n",
      "INFO:root:Batch Length: tensor([10, 10,  9,  9,  8,  8,  8,  7,  7,  6,  6,  6,  6,  6,  6,  5,  4,  4,\n",
      "         4,  4,  4,  4,  4,  4,  2,  2,  2,  1,  1,  1,  1,  1],\n",
      "       dtype=torch.int16)\n",
      "INFO:root:tensor(7.0083, grad_fn=<DivBackward0>)\n",
      "INFO:root:Step 73\n"
     ]
    },
    {
     "name": "stdout",
     "output_type": "stream",
     "text": [
      "BETA 0.40438\n"
     ]
    },
    {
     "name": "stderr",
     "output_type": "stream",
     "text": [
      "INFO:root:Sampling: Collecting new data\n",
      "INFO:root:Batch Length: tensor([10, 10,  9,  8,  8,  8,  7,  7,  7,  7,  7,  7,  6,  6,  6,  5,  5,  4,\n",
      "         4,  4,  4,  3,  3,  3,  3,  3,  3,  3,  2,  2,  2,  1],\n",
      "       dtype=torch.int16)\n"
     ]
    },
    {
     "name": "stdout",
     "output_type": "stream",
     "text": [
      "the the the the the the the the the the the the (0.04088987037539482)\n"
     ]
    },
    {
     "name": "stderr",
     "output_type": "stream",
     "text": [
      "INFO:root:Using / Replacing Index 406\n"
     ]
    },
    {
     "name": "stdout",
     "output_type": "stream",
     "text": [
      "<unk> </s> (0.21105340123176575)\n"
     ]
    },
    {
     "name": "stderr",
     "output_type": "stream",
     "text": [
      "INFO:root:Using / Replacing Index 407\n"
     ]
    },
    {
     "name": "stdout",
     "output_type": "stream",
     "text": [
      "<unk> <unk> <unk> <unk> <unk> <unk> <unk> <unk> <unk> <unk> <unk> <unk> (0.04088987037539482)\n"
     ]
    },
    {
     "name": "stderr",
     "output_type": "stream",
     "text": [
      "INFO:root:Using / Replacing Index 408\n"
     ]
    },
    {
     "name": "stdout",
     "output_type": "stream",
     "text": [
      "<unk> </s> (0.16590386629104614)\n"
     ]
    },
    {
     "name": "stderr",
     "output_type": "stream",
     "text": [
      "INFO:root:Using / Replacing Index 409\n"
     ]
    },
    {
     "name": "stdout",
     "output_type": "stream",
     "text": [
      "<unk> </s> (1.0)\n"
     ]
    },
    {
     "name": "stderr",
     "output_type": "stream",
     "text": [
      "INFO:root:Using / Replacing Index 410\n"
     ]
    },
    {
     "name": "stdout",
     "output_type": "stream",
     "text": [
      "the the the happy </s> (0.12605968117713928)\n"
     ]
    },
    {
     "name": "stderr",
     "output_type": "stream",
     "text": [
      "INFO:root:Using / Replacing Index 411\n"
     ]
    },
    {
     "name": "stdout",
     "output_type": "stream",
     "text": [
      "<unk> </s> (0.1499110758304596)\n"
     ]
    },
    {
     "name": "stderr",
     "output_type": "stream",
     "text": [
      "INFO:root:Using / Replacing Index 412\n"
     ]
    },
    {
     "name": "stdout",
     "output_type": "stream",
     "text": [
      "<unk> </s> (0.472870796918869)\n"
     ]
    },
    {
     "name": "stderr",
     "output_type": "stream",
     "text": [
      "INFO:root:Using / Replacing Index 413\n"
     ]
    },
    {
     "name": "stdout",
     "output_type": "stream",
     "text": [
      "<unk> <unk> <unk> <unk> <unk> <unk> <unk> <unk> <unk> <unk> <unk> <unk> (0.0673239529132843)\n"
     ]
    },
    {
     "name": "stderr",
     "output_type": "stream",
     "text": [
      "INFO:root:Using / Replacing Index 414\n"
     ]
    },
    {
     "name": "stdout",
     "output_type": "stream",
     "text": [
      "<unk> <unk> <unk> <unk> <unk> <unk> <unk> <unk> <unk> <unk> <unk> <unk> (0.09726683795452118)\n"
     ]
    },
    {
     "name": "stderr",
     "output_type": "stream",
     "text": [
      "INFO:root:Using / Replacing Index 415\n"
     ]
    },
    {
     "name": "stdout",
     "output_type": "stream",
     "text": [
      "<unk> <unk> <unk> </s> (0.6687403321266174)\n"
     ]
    },
    {
     "name": "stderr",
     "output_type": "stream",
     "text": [
      "INFO:root:Using / Replacing Index 416\n"
     ]
    },
    {
     "name": "stdout",
     "output_type": "stream",
     "text": [
      "<unk> <unk> <unk> <unk> <unk> <unk> <unk> <unk> <unk> <unk> <unk> <unk> (0.04862652346491814)\n"
     ]
    },
    {
     "name": "stderr",
     "output_type": "stream",
     "text": [
      "INFO:root:Using / Replacing Index 417\n"
     ]
    },
    {
     "name": "stdout",
     "output_type": "stream",
     "text": [
      "<unk> <unk> </s> (0.11390777677297592)\n"
     ]
    },
    {
     "name": "stderr",
     "output_type": "stream",
     "text": [
      "INFO:root:Using / Replacing Index 418\n"
     ]
    },
    {
     "name": "stdout",
     "output_type": "stream",
     "text": [
      "<unk> </s> (0.1857505738735199)\n"
     ]
    },
    {
     "name": "stderr",
     "output_type": "stream",
     "text": [
      "INFO:root:Using / Replacing Index 419\n"
     ]
    },
    {
     "name": "stdout",
     "output_type": "stream",
     "text": [
      "<unk> <unk> <unk> <unk> <unk> <unk> <unk> <unk> <unk> <unk> <unk> <unk> (0.0673239529132843)\n"
     ]
    },
    {
     "name": "stderr",
     "output_type": "stream",
     "text": [
      "INFO:root:Using / Replacing Index 420\n"
     ]
    },
    {
     "name": "stdout",
     "output_type": "stream",
     "text": [
      "<unk> </s> (0.1499110758304596)\n"
     ]
    },
    {
     "name": "stderr",
     "output_type": "stream",
     "text": [
      "INFO:root:Using / Replacing Index 421\n"
     ]
    },
    {
     "name": "stdout",
     "output_type": "stream",
     "text": [
      "<unk> </s> (0.16590386629104614)\n"
     ]
    },
    {
     "name": "stderr",
     "output_type": "stream",
     "text": [
      "INFO:root:Using / Replacing Index 422\n"
     ]
    },
    {
     "name": "stdout",
     "output_type": "stream",
     "text": [
      "<unk> <unk> <unk> <unk> <unk> <unk> <unk> <unk> <unk> <unk> <unk> <unk> (0.13755609095096588)\n"
     ]
    },
    {
     "name": "stderr",
     "output_type": "stream",
     "text": [
      "INFO:root:Using / Replacing Index 423\n"
     ]
    },
    {
     "name": "stdout",
     "output_type": "stream",
     "text": [
      "<unk> <unk> <unk> <unk> <unk> <unk> <unk> <unk> <unk> <unk> <unk> <unk> (0.09050416201353073)\n"
     ]
    },
    {
     "name": "stderr",
     "output_type": "stream",
     "text": [
      "INFO:root:Using / Replacing Index 424\n",
      "INFO:root:Batch Length: tensor([10, 10,  9,  9,  9,  9,  9,  8,  6,  5,  5,  5,  5,  5,  4,  4,  4,  4,\n",
      "         4,  3,  3,  3,  3,  3,  3,  2,  2,  2,  2,  2,  1,  1],\n",
      "       dtype=torch.int16)\n",
      "INFO:root:tensor(4.8735, grad_fn=<DivBackward0>)\n",
      "INFO:root:Step 74\n"
     ]
    },
    {
     "name": "stdout",
     "output_type": "stream",
     "text": [
      "BETA 0.40444\n"
     ]
    },
    {
     "name": "stderr",
     "output_type": "stream",
     "text": [
      "INFO:root:Sampling: Collecting new data\n",
      "INFO:root:Batch Length: tensor([10, 10, 10, 10,  9,  9,  9,  8,  8,  8,  7,  6,  6,  5,  5,  5,  5,  5,\n",
      "         5,  3,  3,  2,  2,  2,  2,  2,  2,  1,  1,  1,  1,  1],\n",
      "       dtype=torch.int16)\n"
     ]
    },
    {
     "name": "stdout",
     "output_type": "stream",
     "text": [
      "now now now we'll </s> (0.1411399245262146)\n"
     ]
    },
    {
     "name": "stderr",
     "output_type": "stream",
     "text": [
      "INFO:root:Using / Replacing Index 425\n"
     ]
    },
    {
     "name": "stdout",
     "output_type": "stream",
     "text": [
      "now now now now </s> (0.11390777677297592)\n"
     ]
    },
    {
     "name": "stderr",
     "output_type": "stream",
     "text": [
      "INFO:root:Using / Replacing Index 426\n"
     ]
    },
    {
     "name": "stdout",
     "output_type": "stream",
     "text": [
      "you </s> (0.20556680858135223)\n"
     ]
    },
    {
     "name": "stderr",
     "output_type": "stream",
     "text": [
      "INFO:root:Using / Replacing Index 427\n"
     ]
    },
    {
     "name": "stdout",
     "output_type": "stream",
     "text": [
      "you </s> (0.220895916223526)\n"
     ]
    },
    {
     "name": "stderr",
     "output_type": "stream",
     "text": [
      "INFO:root:Using / Replacing Index 428\n"
     ]
    },
    {
     "name": "stdout",
     "output_type": "stream",
     "text": [
      "now </s> (0.27301207184791565)\n"
     ]
    },
    {
     "name": "stderr",
     "output_type": "stream",
     "text": [
      "INFO:root:Using / Replacing Index 429\n"
     ]
    },
    {
     "name": "stdout",
     "output_type": "stream",
     "text": [
      "you </s> (0.16036590933799744)\n"
     ]
    },
    {
     "name": "stderr",
     "output_type": "stream",
     "text": [
      "INFO:root:Using / Replacing Index 430\n"
     ]
    },
    {
     "name": "stdout",
     "output_type": "stream",
     "text": [
      "What </s> (0.1857505738735199)\n"
     ]
    },
    {
     "name": "stderr",
     "output_type": "stream",
     "text": [
      "INFO:root:Using / Replacing Index 431\n",
      "INFO:root:Batch Length: tensor([10, 10, 10, 10,  9,  8,  8,  8,  6,  5,  5,  5,  4,  4,  4,  4,  4,  4,\n",
      "         4,  3,  3,  3,  3,  3,  3,  2,  2,  2,  2,  2,  2,  1],\n",
      "       dtype=torch.int16)\n",
      "INFO:root:tensor(27.9093, grad_fn=<DivBackward0>)\n",
      "INFO:root:Step 75\n"
     ]
    },
    {
     "name": "stdout",
     "output_type": "stream",
     "text": [
      "BETA 0.4045\n"
     ]
    },
    {
     "name": "stderr",
     "output_type": "stream",
     "text": [
      "INFO:root:Sampling: Collecting new data\n",
      "INFO:root:Batch Length: tensor([10, 10, 10, 10, 10,  9,  9,  9,  8,  8,  7,  7,  6,  6,  5,  4,  4,  4,\n",
      "         3,  3,  3,  2,  2,  2,  2,  2,  2,  2,  2,  2,  2,  1],\n",
      "       dtype=torch.int16)\n"
     ]
    },
    {
     "name": "stdout",
     "output_type": "stream",
     "text": [
      "<unk> <unk> <unk> <unk> <unk> <unk> <unk> <unk> <unk> <unk> <unk> <unk> (0.005119732581079006)\n"
     ]
    },
    {
     "name": "stderr",
     "output_type": "stream",
     "text": [
      "INFO:root:Using / Replacing Index 432\n",
      "INFO:root:Batch Length: tensor([10, 10,  9,  9,  8,  8,  8,  7,  6,  6,  6,  6,  6,  6,  6,  5,  5,  5,\n",
      "         5,  5,  4,  4,  4,  4,  3,  2,  2,  2,  2,  2,  1,  1],\n",
      "       dtype=torch.int16)\n",
      "INFO:root:tensor(1.4254, grad_fn=<DivBackward0>)\n",
      "INFO:root:Step 76\n"
     ]
    },
    {
     "name": "stdout",
     "output_type": "stream",
     "text": [
      "BETA 0.40456000000000003\n"
     ]
    },
    {
     "name": "stderr",
     "output_type": "stream",
     "text": [
      "INFO:root:Sampling: Collecting new data\n",
      "INFO:root:Batch Length: tensor([10, 10, 10, 10, 10,  9,  8,  8,  8,  7,  7,  6,  6,  5,  5,  5,  5,  4,\n",
      "         4,  3,  3,  3,  3,  3,  3,  2,  2,  2,  2,  2,  2,  1],\n",
      "       dtype=torch.int16)\n",
      "INFO:root:Batch Length: tensor([10, 10, 10, 10, 10,  9,  9,  8,  8,  7,  7,  7,  7,  7,  6,  6,  5,  5,\n",
      "         5,  5,  4,  4,  3,  3,  2,  2,  1,  1,  1,  1,  1,  1],\n",
      "       dtype=torch.int16)\n",
      "INFO:root:tensor(17.4498, grad_fn=<DivBackward0>)\n",
      "INFO:root:Step 77\n"
     ]
    },
    {
     "name": "stdout",
     "output_type": "stream",
     "text": [
      "BETA 0.40462000000000004\n"
     ]
    },
    {
     "name": "stderr",
     "output_type": "stream",
     "text": [
      "INFO:root:Sampling: Collecting new data\n",
      "INFO:root:Batch Length: tensor([10, 10,  9,  9,  7,  7,  7,  7,  7,  7,  6,  6,  5,  5,  5,  5,  5,  5,\n",
      "         5,  4,  4,  4,  4,  4,  4,  3,  3,  3,  2,  2,  2,  2],\n",
      "       dtype=torch.int16)\n"
     ]
    },
    {
     "name": "stdout",
     "output_type": "stream",
     "text": [
      "<unk> </s> (0.27301207184791565)\n"
     ]
    },
    {
     "name": "stderr",
     "output_type": "stream",
     "text": [
      "INFO:root:Using / Replacing Index 433\n"
     ]
    },
    {
     "name": "stdout",
     "output_type": "stream",
     "text": [
      "<unk> </s> (0.302137553691864)\n"
     ]
    },
    {
     "name": "stderr",
     "output_type": "stream",
     "text": [
      "INFO:root:Using / Replacing Index 434\n"
     ]
    },
    {
     "name": "stdout",
     "output_type": "stream",
     "text": [
      "<unk> </s> (0.5372849702835083)\n"
     ]
    },
    {
     "name": "stderr",
     "output_type": "stream",
     "text": [
      "INFO:root:Using / Replacing Index 435\n"
     ]
    },
    {
     "name": "stdout",
     "output_type": "stream",
     "text": [
      "<unk> </s> (0.5372849702835083)\n"
     ]
    },
    {
     "name": "stderr",
     "output_type": "stream",
     "text": [
      "INFO:root:Using / Replacing Index 436\n"
     ]
    },
    {
     "name": "stdout",
     "output_type": "stream",
     "text": [
      "<unk> </s> (0.302137553691864)\n"
     ]
    },
    {
     "name": "stderr",
     "output_type": "stream",
     "text": [
      "INFO:root:Using / Replacing Index 437\n"
     ]
    },
    {
     "name": "stdout",
     "output_type": "stream",
     "text": [
      "<unk> </s> (0.27301207184791565)\n"
     ]
    },
    {
     "name": "stderr",
     "output_type": "stream",
     "text": [
      "INFO:root:Using / Replacing Index 438\n"
     ]
    },
    {
     "name": "stdout",
     "output_type": "stream",
     "text": [
      "<unk> </s> (1.0)\n"
     ]
    },
    {
     "name": "stderr",
     "output_type": "stream",
     "text": [
      "INFO:root:Using / Replacing Index 439\n"
     ]
    },
    {
     "name": "stdout",
     "output_type": "stream",
     "text": [
      "<unk> </s> (0.7071067690849304)\n"
     ]
    },
    {
     "name": "stderr",
     "output_type": "stream",
     "text": [
      "INFO:root:Using / Replacing Index 440\n",
      "INFO:root:Batch Length: tensor([10, 10, 10,  8,  8,  8,  8,  7,  7,  7,  5,  5,  5,  5,  5,  5,  4,  4,\n",
      "         4,  4,  4,  3,  3,  3,  3,  2,  2,  2,  1,  1,  1,  1],\n",
      "       dtype=torch.int16)\n",
      "INFO:root:tensor(5.2716, grad_fn=<DivBackward0>)\n",
      "INFO:root:Step 78\n"
     ]
    },
    {
     "name": "stdout",
     "output_type": "stream",
     "text": [
      "BETA 0.40468000000000004\n"
     ]
    },
    {
     "name": "stderr",
     "output_type": "stream",
     "text": [
      "INFO:root:Sampling: Collecting new data\n",
      "INFO:root:Batch Length: tensor([10, 10, 10,  9,  9,  7,  7,  7,  7,  6,  6,  6,  5,  5,  5,  5,  4,  4,\n",
      "         4,  4,  4,  4,  3,  3,  2,  2,  2,  2,  2,  1,  1,  1],\n",
      "       dtype=torch.int16)\n",
      "INFO:root:Batch Length: tensor([10, 10, 10,  9,  9,  9,  9,  9,  9,  8,  8,  7,  7,  7,  5,  5,  5,  5,\n",
      "         5,  5,  4,  4,  4,  3,  3,  3,  3,  3,  2,  1,  1,  1],\n",
      "       dtype=torch.int16)\n",
      "INFO:root:tensor(41.7126, grad_fn=<DivBackward0>)\n",
      "INFO:root:Step 79\n"
     ]
    },
    {
     "name": "stdout",
     "output_type": "stream",
     "text": [
      "BETA 0.40474000000000004\n"
     ]
    },
    {
     "name": "stderr",
     "output_type": "stream",
     "text": [
      "INFO:root:Sampling: Collecting new data\n",
      "INFO:root:Batch Length: tensor([10, 10,  9,  8,  8,  8,  7,  7,  7,  7,  7,  7,  6,  6,  5,  5,  5,  5,\n",
      "         5,  5,  4,  4,  4,  3,  3,  3,  2,  2,  2,  2,  2,  1],\n",
      "       dtype=torch.int16)\n",
      "INFO:root:Batch Length: tensor([10,  9,  9,  9,  8,  8,  8,  7,  7,  6,  6,  5,  5,  5,  5,  5,  5,  5,\n",
      "         5,  4,  4,  4,  4,  2,  2,  2,  2,  2,  1,  1,  1,  1],\n",
      "       dtype=torch.int16)\n",
      "INFO:root:tensor(1.3751, grad_fn=<DivBackward0>)\n",
      "INFO:root:Step 80\n"
     ]
    },
    {
     "name": "stdout",
     "output_type": "stream",
     "text": [
      "BETA 0.40480000000000005\n"
     ]
    },
    {
     "name": "stderr",
     "output_type": "stream",
     "text": [
      "INFO:root:Sampling: Collecting new data\n",
      "INFO:root:Batch Length: tensor([10, 10, 10, 10,  9,  9,  9,  8,  8,  8,  8,  8,  7,  6,  6,  5,  5,  5,\n",
      "         5,  4,  4,  4,  4,  4,  4,  3,  3,  3,  2,  2,  1,  1],\n",
      "       dtype=torch.int16)\n",
      "INFO:root:Batch Length: tensor([10, 10, 10, 10, 10, 10, 10,  9,  7,  7,  7,  7,  6,  6,  6,  5,  5,  5,\n",
      "         5,  5,  4,  4,  4,  4,  4,  4,  3,  3,  2,  2,  2,  1],\n",
      "       dtype=torch.int16)\n",
      "INFO:root:tensor(29.8150, grad_fn=<DivBackward0>)\n",
      "INFO:root:Target Model Updated\n",
      "INFO:root:Step 81\n"
     ]
    },
    {
     "name": "stdout",
     "output_type": "stream",
     "text": [
      "BETA 0.40486\n"
     ]
    },
    {
     "name": "stderr",
     "output_type": "stream",
     "text": [
      "INFO:root:Sampling: Collecting new data\n",
      "INFO:root:Batch Length: tensor([10, 10, 10,  9,  8,  8,  8,  7,  7,  6,  6,  5,  5,  5,  5,  5,  4,  4,\n",
      "         4,  4,  4,  3,  3,  3,  3,  2,  2,  2,  1,  1,  1,  1],\n",
      "       dtype=torch.int16)\n"
     ]
    },
    {
     "name": "stdout",
     "output_type": "stream",
     "text": [
      "<unk> </s> (0.12605968117713928)\n"
     ]
    },
    {
     "name": "stderr",
     "output_type": "stream",
     "text": [
      "INFO:root:Using / Replacing Index 441\n",
      "INFO:root:Batch Length: tensor([10,  9,  9,  8,  6,  6,  6,  6,  6,  6,  5,  5,  5,  5,  4,  4,  4,  3,\n",
      "         3,  2,  2,  2,  2,  2,  2,  2,  2,  2,  1,  1,  1,  1],\n",
      "       dtype=torch.int16)\n",
      "INFO:root:tensor(0.8210, grad_fn=<DivBackward0>)\n",
      "INFO:root:Step 82\n"
     ]
    },
    {
     "name": "stdout",
     "output_type": "stream",
     "text": [
      "BETA 0.40492\n"
     ]
    },
    {
     "name": "stderr",
     "output_type": "stream",
     "text": [
      "INFO:root:Sampling: Collecting new data\n",
      "INFO:root:Batch Length: tensor([9, 8, 8, 7, 7, 7, 7, 6, 6, 6, 6, 5, 5, 5, 5, 5, 5, 5, 4, 4, 4, 3, 3, 3,\n",
      "        3, 2, 2, 2, 2, 2, 2, 1], dtype=torch.int16)\n",
      "INFO:root:Batch Length: tensor([10, 10,  8,  8,  7,  7,  7,  7,  6,  5,  5,  5,  5,  5,  5,  5,  4,  4,\n",
      "         4,  4,  4,  4,  4,  3,  3,  3,  2,  2,  1,  1,  1,  1],\n",
      "       dtype=torch.int16)\n",
      "INFO:root:tensor(0.8801, grad_fn=<DivBackward0>)\n",
      "INFO:root:Step 83\n"
     ]
    },
    {
     "name": "stdout",
     "output_type": "stream",
     "text": [
      "BETA 0.40498\n"
     ]
    },
    {
     "name": "stderr",
     "output_type": "stream",
     "text": [
      "INFO:root:Sampling: Collecting new data\n",
      "INFO:root:Batch Length: tensor([10, 10, 10, 10, 10, 10,  9,  8,  8,  8,  8,  7,  7,  5,  5,  5,  5,  4,\n",
      "         4,  4,  4,  4,  3,  3,  3,  3,  3,  3,  2,  1,  1,  1],\n",
      "       dtype=torch.int16)\n",
      "INFO:root:Batch Length: tensor([10, 10, 10, 10, 10, 10,  9,  9,  8,  8,  7,  6,  6,  5,  5,  5,  5,  5,\n",
      "         4,  4,  4,  4,  4,  3,  3,  3,  3,  2,  2,  2,  2,  1],\n",
      "       dtype=torch.int16)\n",
      "INFO:root:tensor(2.5516, grad_fn=<DivBackward0>)\n",
      "INFO:root:Step 84\n"
     ]
    },
    {
     "name": "stdout",
     "output_type": "stream",
     "text": [
      "BETA 0.40504\n"
     ]
    },
    {
     "name": "stderr",
     "output_type": "stream",
     "text": [
      "INFO:root:Sampling: Collecting new data\n",
      "INFO:root:Batch Length: tensor([10, 10, 10, 10, 10,  9,  9,  9,  9,  8,  8,  8,  8,  8,  8,  7,  6,  5,\n",
      "         5,  5,  4,  3,  3,  3,  3,  3,  2,  2,  2,  1,  1,  1],\n",
      "       dtype=torch.int16)\n",
      "INFO:root:Batch Length: tensor([10, 10, 10, 10, 10,  9,  9,  8,  8,  7,  7,  6,  6,  6,  6,  5,  5,  5,\n",
      "         5,  4,  4,  4,  4,  3,  3,  3,  3,  3,  2,  1,  1,  1],\n",
      "       dtype=torch.int16)\n",
      "INFO:root:tensor(2.5095, grad_fn=<DivBackward0>)\n"
     ]
    },
    {
     "ename": "KeyboardInterrupt",
     "evalue": "",
     "output_type": "error",
     "traceback": [
      "\u001b[1;31m---------------------------------------------------------------------------\u001b[0m",
      "\u001b[1;31mKeyboardInterrupt\u001b[0m                         Traceback (most recent call last)",
      "\u001b[1;32m<ipython-input-220-a99fde02468e>\u001b[0m in \u001b[0;36m<module>\u001b[1;34m\u001b[0m\n\u001b[1;32m----> 1\u001b[1;33m \u001b[0mresult\u001b[0m \u001b[1;33m=\u001b[0m \u001b[0mtrainer\u001b[0m\u001b[1;33m.\u001b[0m\u001b[0mtrain\u001b[0m\u001b[1;33m(\u001b[0m\u001b[0mtrain_steps\u001b[0m\u001b[1;33m=\u001b[0m\u001b[1;36m400\u001b[0m\u001b[1;33m,\u001b[0m \u001b[0mvalid_steps\u001b[0m\u001b[1;33m=\u001b[0m\u001b[1;36m200\u001b[0m\u001b[1;33m)\u001b[0m\u001b[1;33m\u001b[0m\u001b[1;33m\u001b[0m\u001b[0m\n\u001b[0m",
      "\u001b[1;32m~\\Downloads\\rl-adventure\\rainbow_dialogues\\modules\\QLearning.py\u001b[0m in \u001b[0;36mtrain\u001b[1;34m(self, train_steps, save_checkpoint_steps, valid_steps)\u001b[0m\n\u001b[0;32m    137\u001b[0m                 \u001b[0mself\u001b[0m\u001b[1;33m.\u001b[0m\u001b[0m_sample\u001b[0m\u001b[1;33m(\u001b[0m\u001b[1;33m)\u001b[0m\u001b[1;33m\u001b[0m\u001b[1;33m\u001b[0m\u001b[0m\n\u001b[0;32m    138\u001b[0m \u001b[1;33m\u001b[0m\u001b[0m\n\u001b[1;32m--> 139\u001b[1;33m             \u001b[0mself\u001b[0m\u001b[1;33m.\u001b[0m\u001b[0m_step\u001b[0m\u001b[1;33m(\u001b[0m\u001b[0mbatch\u001b[0m\u001b[1;33m,\u001b[0m \u001b[0mnormalization\u001b[0m\u001b[1;33m)\u001b[0m\u001b[1;33m\u001b[0m\u001b[1;33m\u001b[0m\u001b[0m\n\u001b[0m\u001b[0;32m    140\u001b[0m \u001b[1;33m\u001b[0m\u001b[0m\n\u001b[0;32m    141\u001b[0m             \u001b[1;32mif\u001b[0m \u001b[0mstep\u001b[0m \u001b[1;33m%\u001b[0m \u001b[0mself\u001b[0m\u001b[1;33m.\u001b[0m\u001b[0mconfig\u001b[0m\u001b[1;33m.\u001b[0m\u001b[0mtarget_update_freq\u001b[0m \u001b[1;33m==\u001b[0m \u001b[1;36m0\u001b[0m\u001b[1;33m:\u001b[0m\u001b[1;33m\u001b[0m\u001b[1;33m\u001b[0m\u001b[0m\n",
      "\u001b[1;32m~\\Downloads\\rl-adventure\\rainbow_dialogues\\modules\\QLearning.py\u001b[0m in \u001b[0;36m_step\u001b[1;34m(self, batch, normalization)\u001b[0m\n\u001b[0;32m    346\u001b[0m \u001b[1;33m\u001b[0m\u001b[0m\n\u001b[0;32m    347\u001b[0m             \u001b[1;32mif\u001b[0m \u001b[0mloss\u001b[0m \u001b[1;32mis\u001b[0m \u001b[1;32mnot\u001b[0m \u001b[1;32mNone\u001b[0m\u001b[1;33m:\u001b[0m \u001b[1;31m# maybe already backwarded in train_loss\u001b[0m\u001b[1;33m\u001b[0m\u001b[1;33m\u001b[0m\u001b[0m\n\u001b[1;32m--> 348\u001b[1;33m                 \u001b[0mself\u001b[0m\u001b[1;33m.\u001b[0m\u001b[0moptim\u001b[0m\u001b[1;33m.\u001b[0m\u001b[0mbackward\u001b[0m\u001b[1;33m(\u001b[0m\u001b[0mloss\u001b[0m\u001b[1;33m)\u001b[0m\u001b[1;33m\u001b[0m\u001b[1;33m\u001b[0m\u001b[0m\n\u001b[0m\u001b[0;32m    349\u001b[0m \u001b[1;33m\u001b[0m\u001b[0m\n\u001b[0;32m    350\u001b[0m         \u001b[1;32mexcept\u001b[0m \u001b[0mException\u001b[0m\u001b[1;33m:\u001b[0m\u001b[1;33m\u001b[0m\u001b[1;33m\u001b[0m\u001b[0m\n",
      "\u001b[1;32mc:\\users\\fabian\\.virtualenvs\\rl-adventure-xhdax2fk\\lib\\site-packages\\onmt\\utils\\optimizers.py\u001b[0m in \u001b[0;36mbackward\u001b[1;34m(self, loss)\u001b[0m\n\u001b[0;32m    317\u001b[0m                 \u001b[0mscaled_loss\u001b[0m\u001b[1;33m.\u001b[0m\u001b[0mbackward\u001b[0m\u001b[1;33m(\u001b[0m\u001b[1;33m)\u001b[0m\u001b[1;33m\u001b[0m\u001b[1;33m\u001b[0m\u001b[0m\n\u001b[0;32m    318\u001b[0m         \u001b[1;32melse\u001b[0m\u001b[1;33m:\u001b[0m\u001b[1;33m\u001b[0m\u001b[1;33m\u001b[0m\u001b[0m\n\u001b[1;32m--> 319\u001b[1;33m             \u001b[0mloss\u001b[0m\u001b[1;33m.\u001b[0m\u001b[0mbackward\u001b[0m\u001b[1;33m(\u001b[0m\u001b[1;33m)\u001b[0m\u001b[1;33m\u001b[0m\u001b[1;33m\u001b[0m\u001b[0m\n\u001b[0m\u001b[0;32m    320\u001b[0m \u001b[1;33m\u001b[0m\u001b[0m\n\u001b[0;32m    321\u001b[0m     \u001b[1;32mdef\u001b[0m \u001b[0mstep\u001b[0m\u001b[1;33m(\u001b[0m\u001b[0mself\u001b[0m\u001b[1;33m)\u001b[0m\u001b[1;33m:\u001b[0m\u001b[1;33m\u001b[0m\u001b[1;33m\u001b[0m\u001b[0m\n",
      "\u001b[1;32mc:\\users\\fabian\\.virtualenvs\\rl-adventure-xhdax2fk\\lib\\site-packages\\torch\\tensor.py\u001b[0m in \u001b[0;36mbackward\u001b[1;34m(self, gradient, retain_graph, create_graph)\u001b[0m\n\u001b[0;32m    105\u001b[0m                 \u001b[0mproducts\u001b[0m\u001b[1;33m.\u001b[0m \u001b[0mDefaults\u001b[0m \u001b[0mto\u001b[0m\u001b[0;31m \u001b[0m\u001b[0;31m`\u001b[0m\u001b[0;31m`\u001b[0m\u001b[1;32mFalse\u001b[0m\u001b[0;31m`\u001b[0m\u001b[0;31m`\u001b[0m\u001b[1;33m.\u001b[0m\u001b[1;33m\u001b[0m\u001b[1;33m\u001b[0m\u001b[0m\n\u001b[0;32m    106\u001b[0m         \"\"\"\n\u001b[1;32m--> 107\u001b[1;33m         \u001b[0mtorch\u001b[0m\u001b[1;33m.\u001b[0m\u001b[0mautograd\u001b[0m\u001b[1;33m.\u001b[0m\u001b[0mbackward\u001b[0m\u001b[1;33m(\u001b[0m\u001b[0mself\u001b[0m\u001b[1;33m,\u001b[0m \u001b[0mgradient\u001b[0m\u001b[1;33m,\u001b[0m \u001b[0mretain_graph\u001b[0m\u001b[1;33m,\u001b[0m \u001b[0mcreate_graph\u001b[0m\u001b[1;33m)\u001b[0m\u001b[1;33m\u001b[0m\u001b[1;33m\u001b[0m\u001b[0m\n\u001b[0m\u001b[0;32m    108\u001b[0m \u001b[1;33m\u001b[0m\u001b[0m\n\u001b[0;32m    109\u001b[0m     \u001b[1;32mdef\u001b[0m \u001b[0mregister_hook\u001b[0m\u001b[1;33m(\u001b[0m\u001b[0mself\u001b[0m\u001b[1;33m,\u001b[0m \u001b[0mhook\u001b[0m\u001b[1;33m)\u001b[0m\u001b[1;33m:\u001b[0m\u001b[1;33m\u001b[0m\u001b[1;33m\u001b[0m\u001b[0m\n",
      "\u001b[1;32mc:\\users\\fabian\\.virtualenvs\\rl-adventure-xhdax2fk\\lib\\site-packages\\torch\\autograd\\__init__.py\u001b[0m in \u001b[0;36mbackward\u001b[1;34m(tensors, grad_tensors, retain_graph, create_graph, grad_variables)\u001b[0m\n\u001b[0;32m     91\u001b[0m     Variable._execution_engine.run_backward(\n\u001b[0;32m     92\u001b[0m         \u001b[0mtensors\u001b[0m\u001b[1;33m,\u001b[0m \u001b[0mgrad_tensors\u001b[0m\u001b[1;33m,\u001b[0m \u001b[0mretain_graph\u001b[0m\u001b[1;33m,\u001b[0m \u001b[0mcreate_graph\u001b[0m\u001b[1;33m,\u001b[0m\u001b[1;33m\u001b[0m\u001b[1;33m\u001b[0m\u001b[0m\n\u001b[1;32m---> 93\u001b[1;33m         allow_unreachable=True)  # allow_unreachable flag\n\u001b[0m\u001b[0;32m     94\u001b[0m \u001b[1;33m\u001b[0m\u001b[0m\n\u001b[0;32m     95\u001b[0m \u001b[1;33m\u001b[0m\u001b[0m\n",
      "\u001b[1;31mKeyboardInterrupt\u001b[0m: "
     ]
    }
   ],
   "source": [
    "result = trainer.train(train_steps=400, valid_steps=200)"
   ]
  }
 ],
 "metadata": {
  "kernelspec": {
   "display_name": "Python 3",
   "language": "python",
   "name": "python3"
  },
  "language_info": {
   "codemirror_mode": {
    "name": "ipython",
    "version": 3
   },
   "file_extension": ".py",
   "mimetype": "text/x-python",
   "name": "python",
   "nbconvert_exporter": "python",
   "pygments_lexer": "ipython3",
   "version": "3.6.8"
  }
 },
 "nbformat": 4,
 "nbformat_minor": 4
}
